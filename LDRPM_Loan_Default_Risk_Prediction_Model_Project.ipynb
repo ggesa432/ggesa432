{
  "metadata": {
    "kernelspec": {
      "display_name": "Python 3",
      "name": "python3"
    },
    "language_info": {
      "name": "python",
      "version": "3.10.13",
      "mimetype": "text/x-python",
      "codemirror_mode": {
        "name": "ipython",
        "version": 3
      },
      "pygments_lexer": "ipython3",
      "nbconvert_exporter": "python",
      "file_extension": ".py"
    },
    "kaggle": {
      "accelerator": "gpu",
      "dataSources": [
        {
          "sourceId": 50160,
          "databundleVersionId": 7921029,
          "sourceType": "competition"
        }
      ],
      "dockerImageVersionId": 30648,
      "isInternetEnabled": false,
      "language": "python",
      "sourceType": "notebook",
      "isGpuEnabled": true
    },
    "colab": {
      "provenance": [],
      "machine_shape": "hm",
      "gpuType": "V100",
      "include_colab_link": true
    },
    "accelerator": "GPU"
  },
  "nbformat_minor": 0,
  "nbformat": 4,
  "cells": [
    {
      "cell_type": "markdown",
      "metadata": {
        "id": "view-in-github",
        "colab_type": "text"
      },
      "source": [
        "<a href=\"https://colab.research.google.com/github/ggesa432/ggesa432/blob/master/LDRPM_Loan_Default_Risk_Prediction_Model_Project.ipynb\" target=\"_parent\"><img src=\"https://colab.research.google.com/assets/colab-badge.svg\" alt=\"Open In Colab\"/></a>"
      ]
    },
    {
      "source": [
        "\n",
        "# IMPORTANT: RUN THIS CELL IN ORDER TO IMPORT YOUR KAGGLE DATA SOURCES\n",
        "# TO THE CORRECT LOCATION (/kaggle/input) IN YOUR NOTEBOOK,\n",
        "# THEN FEEL FREE TO DELETE THIS CELL.\n",
        "# NOTE: THIS NOTEBOOK ENVIRONMENT DIFFERS FROM KAGGLE'S PYTHON\n",
        "# ENVIRONMENT SO THERE MAY BE MISSING LIBRARIES USED BY YOUR\n",
        "# NOTEBOOK.\n",
        "\n",
        "import os\n",
        "import sys\n",
        "from tempfile import NamedTemporaryFile\n",
        "from urllib.request import urlopen\n",
        "from urllib.parse import unquote, urlparse\n",
        "from urllib.error import HTTPError\n",
        "from zipfile import ZipFile\n",
        "import tarfile\n",
        "import shutil\n",
        "\n",
        "CHUNK_SIZE = 40960\n",
        "DATA_SOURCE_MAPPING = 'home-credit-credit-risk-model-stability:https%3A%2F%2Fstorage.googleapis.com%2Fkaggle-competitions-data%2Fkaggle-v2%2F50160%2F7921029%2Fbundle%2Farchive.zip%3FX-Goog-Algorithm%3DGOOG4-RSA-SHA256%26X-Goog-Credential%3Dgcp-kaggle-com%2540kaggle-161607.iam.gserviceaccount.com%252F20240501%252Fauto%252Fstorage%252Fgoog4_request%26X-Goog-Date%3D20240501T201144Z%26X-Goog-Expires%3D259200%26X-Goog-SignedHeaders%3Dhost%26X-Goog-Signature%3D09c76022cf0d0de93adb88b8bf750fc78ff49f606af210810ac4bd8255345c72ef4cadf1e0f70adda5796e442b366f9a51e4b97584d36b68ed7a11af33fc7f8f1fea7b10ca6741fbe40479351ffc6ae10bd7e93ecda6a029b4b5453c0a01eb32870686a3d2145eac5735d87cfbbca95d481bb823dacae49e09e7cd3d7c4e83be28f1ba15d3fb212499dd16e3ff9ab1e6748f92d2fec5b17a158f52c087a1ecd963b73917a2ecb29bdabbc4c2bc0d58db905853ab20ba33fabbcf614c437bcdda6da9e11a1661cfd176cc967348bfe4de5e1de692775a0e2707a5dff945ad37c32953a89ccd30c349172bba6e9daea046fbb444a23a96ac3848c4f1d81938b121'\n",
        "\n",
        "KAGGLE_INPUT_PATH='/kaggle/input'\n",
        "KAGGLE_WORKING_PATH='/kaggle/working'\n",
        "KAGGLE_SYMLINK='kaggle'\n",
        "\n",
        "!umount /kaggle/input/ 2> /dev/null\n",
        "shutil.rmtree('/kaggle/input', ignore_errors=True)\n",
        "os.makedirs(KAGGLE_INPUT_PATH, 0o777, exist_ok=True)\n",
        "os.makedirs(KAGGLE_WORKING_PATH, 0o777, exist_ok=True)\n",
        "\n",
        "try:\n",
        "  os.symlink(KAGGLE_INPUT_PATH, os.path.join(\"..\", 'input'), target_is_directory=True)\n",
        "except FileExistsError:\n",
        "  pass\n",
        "try:\n",
        "  os.symlink(KAGGLE_WORKING_PATH, os.path.join(\"..\", 'working'), target_is_directory=True)\n",
        "except FileExistsError:\n",
        "  pass\n",
        "\n",
        "for data_source_mapping in DATA_SOURCE_MAPPING.split(','):\n",
        "    directory, download_url_encoded = data_source_mapping.split(':')\n",
        "    download_url = unquote(download_url_encoded)\n",
        "    filename = urlparse(download_url).path\n",
        "    destination_path = os.path.join(KAGGLE_INPUT_PATH, directory)\n",
        "    try:\n",
        "        with urlopen(download_url) as fileres, NamedTemporaryFile() as tfile:\n",
        "            total_length = fileres.headers['content-length']\n",
        "            print(f'Downloading {directory}, {total_length} bytes compressed')\n",
        "            dl = 0\n",
        "            data = fileres.read(CHUNK_SIZE)\n",
        "            while len(data) > 0:\n",
        "                dl += len(data)\n",
        "                tfile.write(data)\n",
        "                done = int(50 * dl / int(total_length))\n",
        "                sys.stdout.write(f\"\\r[{'=' * done}{' ' * (50-done)}] {dl} bytes downloaded\")\n",
        "                sys.stdout.flush()\n",
        "                data = fileres.read(CHUNK_SIZE)\n",
        "            if filename.endswith('.zip'):\n",
        "              with ZipFile(tfile) as zfile:\n",
        "                zfile.extractall(destination_path)\n",
        "            else:\n",
        "              with tarfile.open(tfile.name) as tarfile:\n",
        "                tarfile.extractall(destination_path)\n",
        "            print(f'\\nDownloaded and uncompressed: {directory}')\n",
        "    except HTTPError as e:\n",
        "        print(f'Failed to load (likely expired) {download_url} to path {destination_path}')\n",
        "        continue\n",
        "    except OSError as e:\n",
        "        print(f'Failed to load {download_url} to path {destination_path}')\n",
        "        continue\n",
        "\n",
        "print('Data source import complete.')\n"
      ],
      "metadata": {
        "id": "HA_P6n-9yNYB",
        "outputId": "af33af96-af0e-4c46-af5b-9a0f2fcaf282",
        "colab": {
          "base_uri": "https://localhost:8080/"
        }
      },
      "cell_type": "code",
      "outputs": [
        {
          "output_type": "stream",
          "name": "stdout",
          "text": [
            "Downloading home-credit-credit-risk-model-stability, 3375704785 bytes compressed\n",
            "[==================================================] 3375704785 bytes downloaded\n",
            "Downloaded and uncompressed: home-credit-credit-risk-model-stability\n",
            "Data source import complete.\n"
          ]
        }
      ],
      "execution_count": null
    },
    {
      "cell_type": "code",
      "source": [
        "!pip install catboost\n"
      ],
      "metadata": {
        "id": "gkBMfskv0bZp",
        "outputId": "2776ec72-8e24-46a3-d6ea-9677ff54ae8f",
        "colab": {
          "base_uri": "https://localhost:8080/"
        }
      },
      "execution_count": null,
      "outputs": [
        {
          "output_type": "stream",
          "name": "stdout",
          "text": [
            "Requirement already satisfied: catboost in /usr/local/lib/python3.10/dist-packages (1.2.5)\n",
            "Requirement already satisfied: graphviz in /usr/local/lib/python3.10/dist-packages (from catboost) (0.20.3)\n",
            "Requirement already satisfied: matplotlib in /usr/local/lib/python3.10/dist-packages (from catboost) (3.7.1)\n",
            "Requirement already satisfied: numpy>=1.16.0 in /usr/local/lib/python3.10/dist-packages (from catboost) (1.25.2)\n",
            "Requirement already satisfied: pandas>=0.24 in /usr/local/lib/python3.10/dist-packages (from catboost) (2.0.3)\n",
            "Requirement already satisfied: scipy in /usr/local/lib/python3.10/dist-packages (from catboost) (1.11.4)\n",
            "Requirement already satisfied: plotly in /usr/local/lib/python3.10/dist-packages (from catboost) (5.15.0)\n",
            "Requirement already satisfied: six in /usr/local/lib/python3.10/dist-packages (from catboost) (1.16.0)\n",
            "Requirement already satisfied: python-dateutil>=2.8.2 in /usr/local/lib/python3.10/dist-packages (from pandas>=0.24->catboost) (2.8.2)\n",
            "Requirement already satisfied: pytz>=2020.1 in /usr/local/lib/python3.10/dist-packages (from pandas>=0.24->catboost) (2023.4)\n",
            "Requirement already satisfied: tzdata>=2022.1 in /usr/local/lib/python3.10/dist-packages (from pandas>=0.24->catboost) (2024.1)\n",
            "Requirement already satisfied: contourpy>=1.0.1 in /usr/local/lib/python3.10/dist-packages (from matplotlib->catboost) (1.2.1)\n",
            "Requirement already satisfied: cycler>=0.10 in /usr/local/lib/python3.10/dist-packages (from matplotlib->catboost) (0.12.1)\n",
            "Requirement already satisfied: fonttools>=4.22.0 in /usr/local/lib/python3.10/dist-packages (from matplotlib->catboost) (4.51.0)\n",
            "Requirement already satisfied: kiwisolver>=1.0.1 in /usr/local/lib/python3.10/dist-packages (from matplotlib->catboost) (1.4.5)\n",
            "Requirement already satisfied: packaging>=20.0 in /usr/local/lib/python3.10/dist-packages (from matplotlib->catboost) (24.0)\n",
            "Requirement already satisfied: pillow>=6.2.0 in /usr/local/lib/python3.10/dist-packages (from matplotlib->catboost) (9.4.0)\n",
            "Requirement already satisfied: pyparsing>=2.3.1 in /usr/local/lib/python3.10/dist-packages (from matplotlib->catboost) (3.1.2)\n",
            "Requirement already satisfied: tenacity>=6.2.0 in /usr/local/lib/python3.10/dist-packages (from plotly->catboost) (8.2.3)\n"
          ]
        }
      ]
    },
    {
      "cell_type": "code",
      "source": [
        "import os\n",
        "import gc\n",
        "from glob import glob\n",
        "from pathlib import Path\n",
        "from datetime import datetime\n",
        "\n",
        "import numpy as np\n",
        "import pandas as pd\n",
        "import polars as pl\n",
        "\n",
        "import matplotlib.pyplot as plt\n",
        "import seaborn as sns\n",
        "\n",
        "from sklearn.model_selection import StratifiedGroupKFold\n",
        "from sklearn.base import BaseEstimator, ClassifierMixin\n",
        "\n",
        "import lightgbm as lgb\n",
        "\n",
        "import warnings\n",
        "warnings.simplefilter(action='ignore', category=FutureWarning)\n",
        "\n",
        "from catboost import CatBoostClassifier, Pool, cv\n",
        "from sklearn.model_selection import GroupKFold\n",
        "\n",
        "import xgboost as xgb\n",
        "from sklearn.ensemble import VotingClassifier\n",
        "from sklearn.model_selection import train_test_split\n",
        "from sklearn.utils.validation import check_is_fitted\n",
        "from sklearn.exceptions import NotFittedError\n"
      ],
      "metadata": {
        "_uuid": "8f2839f25d086af736a60e9eeb907d3b93b6e0e5",
        "_cell_guid": "b1076dfc-b9ad-4769-8c92-a6c4dae69d19",
        "execution": {
          "iopub.status.busy": "2024-05-01T20:01:40.110449Z",
          "iopub.execute_input": "2024-05-01T20:01:40.111664Z",
          "iopub.status.idle": "2024-05-01T20:01:47.896107Z",
          "shell.execute_reply.started": "2024-05-01T20:01:40.111625Z",
          "shell.execute_reply": "2024-05-01T20:01:47.895106Z"
        },
        "trusted": true,
        "id": "FaRdvlBxyNYE"
      },
      "execution_count": null,
      "outputs": []
    },
    {
      "cell_type": "markdown",
      "source": [
        "### Pre-Fitted Voting Model"
      ],
      "metadata": {
        "id": "tGo_waf7yNYE"
      }
    },
    {
      "cell_type": "code",
      "source": [
        "class VotingModel(BaseEstimator, ClassifierMixin):\n",
        "    def __init__(self, estimators):\n",
        "        super().__init__()\n",
        "        self.estimators = estimators\n",
        "\n",
        "    def fit(self, X, y=None):\n",
        "        return self\n",
        "\n",
        "    def predict(self, X):\n",
        "        y_preds = [estimator.predict(X) for estimator in self.estimators]\n",
        "        return np.mean(y_preds, axis=0)\n",
        "\n",
        "    def predict_proba(self, X):\n",
        "        y_preds = [estimator.predict_proba(X) for estimator in self.estimators]\n",
        "        return np.mean(y_preds, axis=0)"
      ],
      "metadata": {
        "execution": {
          "iopub.status.busy": "2024-05-01T20:01:49.225057Z",
          "iopub.execute_input": "2024-05-01T20:01:49.2255Z",
          "iopub.status.idle": "2024-05-01T20:01:49.233999Z",
          "shell.execute_reply.started": "2024-05-01T20:01:49.225466Z",
          "shell.execute_reply": "2024-05-01T20:01:49.232698Z"
        },
        "trusted": true,
        "id": "h39f9tBXyNYF"
      },
      "execution_count": null,
      "outputs": []
    },
    {
      "cell_type": "markdown",
      "source": [
        "### Pipeline"
      ],
      "metadata": {
        "id": "AO0VOwvHyNYF"
      }
    },
    {
      "cell_type": "code",
      "source": [
        "class Pipeline:\n",
        "    @staticmethod\n",
        "    def set_table_dtypes(df):\n",
        "        for col in df.columns:\n",
        "            if col in [\"case_id\", \"WEEK_NUM\", \"num_group1\", \"num_group2\"]:\n",
        "                df = df.with_columns(pl.col(col).cast(pl.Int32))\n",
        "            elif col in [\"date_decision\"]:\n",
        "                df = df.with_columns(pl.col(col).cast(pl.Date))\n",
        "            elif col[-1] in (\"P\", \"A\"):\n",
        "                df = df.with_columns(pl.col(col).cast(pl.Float64))\n",
        "            elif col[-1] in (\"M\",):\n",
        "                df = df.with_columns(pl.col(col).cast(pl.Utf8))\n",
        "            elif col[-1] in (\"D\",):\n",
        "                df = df.with_columns(pl.col(col).cast(pl.Date))\n",
        "\n",
        "        return df\n",
        "\n",
        "    @staticmethod\n",
        "    def handle_dates(df):\n",
        "        for col in df.columns:\n",
        "            if col[-1] in (\"D\",):\n",
        "                df = df.with_columns(pl.col(col) - pl.col(\"date_decision\"))\n",
        "                df = df.with_columns(pl.col(col).dt.total_days())\n",
        "                df = df.with_columns(pl.col(col).cast(pl.Float32))\n",
        "\n",
        "        df = df.drop(\"date_decision\", \"MONTH\")\n",
        "\n",
        "        return df\n",
        "\n",
        "    @staticmethod\n",
        "    def filter_cols(df):\n",
        "        for col in df.columns:\n",
        "            if col not in [\"target\", \"case_id\", \"WEEK_NUM\"]:\n",
        "                isnull = df[col].is_null().mean()\n",
        "\n",
        "                if isnull > 0.95:\n",
        "                    df = df.drop(col)\n",
        "\n",
        "        for col in df.columns:\n",
        "            if (col not in [\"target\", \"case_id\", \"WEEK_NUM\"]) & (df[col].dtype == pl.Utf8):\n",
        "                freq = df[col].n_unique()\n",
        "\n",
        "                if (freq == 1) | (freq > 200):\n",
        "                    df = df.drop(col)\n",
        "\n",
        "        return df"
      ],
      "metadata": {
        "execution": {
          "iopub.status.busy": "2024-05-01T20:01:51.07144Z",
          "iopub.execute_input": "2024-05-01T20:01:51.07258Z",
          "iopub.status.idle": "2024-05-01T20:01:51.09099Z",
          "shell.execute_reply.started": "2024-05-01T20:01:51.072511Z",
          "shell.execute_reply": "2024-05-01T20:01:51.089547Z"
        },
        "trusted": true,
        "id": "cpB_u1s4yNYG"
      },
      "execution_count": null,
      "outputs": []
    },
    {
      "cell_type": "markdown",
      "source": [
        "### Automatic Aggregation"
      ],
      "metadata": {
        "id": "85O_rvi_yNYG"
      }
    },
    {
      "cell_type": "code",
      "source": [
        "class Aggregator:\n",
        "    @staticmethod\n",
        "    def num_expr(df):\n",
        "        cols = [col for col in df.columns if col[-1] in (\"P\", \"A\")]\n",
        "\n",
        "        expr_max = [pl.max(col).alias(f\"max_{col}\") for col in cols]\n",
        "\n",
        "        return expr_max\n",
        "\n",
        "    @staticmethod\n",
        "    def date_expr(df):\n",
        "        cols = [col for col in df.columns if col[-1] in (\"D\",)]\n",
        "\n",
        "        expr_max = [pl.max(col).alias(f\"max_{col}\") for col in cols]\n",
        "\n",
        "        return expr_max\n",
        "\n",
        "    @staticmethod\n",
        "    def str_expr(df):\n",
        "        cols = [col for col in df.columns if col[-1] in (\"M\",)]\n",
        "\n",
        "        expr_max = [pl.max(col).alias(f\"max_{col}\") for col in cols]\n",
        "\n",
        "        return expr_max\n",
        "\n",
        "    @staticmethod\n",
        "    def other_expr(df):\n",
        "        cols = [col for col in df.columns if col[-1] in (\"T\", \"L\")]\n",
        "\n",
        "        expr_max = [pl.max(col).alias(f\"max_{col}\") for col in cols]\n",
        "\n",
        "        return expr_max\n",
        "\n",
        "    @staticmethod\n",
        "    def count_expr(df):\n",
        "        cols = [col for col in df.columns if \"num_group\" in col]\n",
        "\n",
        "        expr_max = [pl.max(col).alias(f\"max_{col}\") for col in cols]\n",
        "\n",
        "        return expr_max\n",
        "\n",
        "    @staticmethod\n",
        "    def get_exprs(df):\n",
        "        exprs = Aggregator.num_expr(df) + \\\n",
        "                Aggregator.date_expr(df) + \\\n",
        "                Aggregator.str_expr(df) + \\\n",
        "                Aggregator.other_expr(df) + \\\n",
        "                Aggregator.count_expr(df)\n",
        "\n",
        "        return exprs"
      ],
      "metadata": {
        "execution": {
          "iopub.status.busy": "2024-05-01T20:01:53.958856Z",
          "iopub.execute_input": "2024-05-01T20:01:53.959797Z",
          "iopub.status.idle": "2024-05-01T20:01:53.972459Z",
          "shell.execute_reply.started": "2024-05-01T20:01:53.959758Z",
          "shell.execute_reply": "2024-05-01T20:01:53.971084Z"
        },
        "trusted": true,
        "id": "tUDZwqKyyNYG"
      },
      "execution_count": null,
      "outputs": []
    },
    {
      "cell_type": "markdown",
      "source": [
        "### File I/O"
      ],
      "metadata": {
        "id": "h0ZuV-fXyNYG"
      }
    },
    {
      "cell_type": "code",
      "source": [
        "def read_file(path, depth=None):\n",
        "    df = pl.read_parquet(path)\n",
        "    df = df.pipe(Pipeline.set_table_dtypes)\n",
        "\n",
        "    if depth in [1, 2]:\n",
        "        df = df.group_by(\"case_id\").agg(Aggregator.get_exprs(df))\n",
        "\n",
        "    return df\n",
        "\n",
        "def read_files(regex_path, depth=None):\n",
        "    chunks = []\n",
        "    for path in glob(str(regex_path)):\n",
        "        df = pl.read_parquet(path)\n",
        "        df = df.pipe(Pipeline.set_table_dtypes)\n",
        "\n",
        "        if depth in [1, 2]:\n",
        "            df = df.group_by(\"case_id\").agg(Aggregator.get_exprs(df))\n",
        "\n",
        "        chunks.append(df)\n",
        "\n",
        "    df = pl.concat(chunks, how=\"vertical_relaxed\")\n",
        "    df = df.unique(subset=[\"case_id\"])\n",
        "\n",
        "    return df"
      ],
      "metadata": {
        "execution": {
          "iopub.status.busy": "2024-05-01T20:02:09.669613Z",
          "iopub.execute_input": "2024-05-01T20:02:09.670629Z",
          "iopub.status.idle": "2024-05-01T20:02:09.679275Z",
          "shell.execute_reply.started": "2024-05-01T20:02:09.670587Z",
          "shell.execute_reply": "2024-05-01T20:02:09.678012Z"
        },
        "trusted": true,
        "id": "PbTOxOTDyNYH"
      },
      "execution_count": null,
      "outputs": []
    },
    {
      "cell_type": "markdown",
      "source": [
        "### Feature Engineering"
      ],
      "metadata": {
        "id": "UyPPekJ1yNYH"
      }
    },
    {
      "cell_type": "code",
      "source": [
        "def feature_eng(df_base, depth_0, depth_1, depth_2):\n",
        "    df_base = (\n",
        "        df_base\n",
        "        .with_columns(\n",
        "            month_decision = pl.col(\"date_decision\").dt.month(),\n",
        "            weekday_decision = pl.col(\"date_decision\").dt.weekday(),\n",
        "        )\n",
        "    )\n",
        "\n",
        "    for i, df in enumerate(depth_0 + depth_1 + depth_2):\n",
        "        df_base = df_base.join(df, how=\"left\", on=\"case_id\", suffix=f\"_{i}\")\n",
        "\n",
        "    df_base = df_base.pipe(Pipeline.handle_dates)\n",
        "\n",
        "    return df_base"
      ],
      "metadata": {
        "execution": {
          "iopub.status.busy": "2024-05-01T20:02:12.261802Z",
          "iopub.execute_input": "2024-05-01T20:02:12.262593Z",
          "iopub.status.idle": "2024-05-01T20:02:12.269787Z",
          "shell.execute_reply.started": "2024-05-01T20:02:12.262544Z",
          "shell.execute_reply": "2024-05-01T20:02:12.268577Z"
        },
        "trusted": true,
        "id": "4XUQbT9fyNYH"
      },
      "execution_count": null,
      "outputs": []
    },
    {
      "cell_type": "code",
      "source": [
        "def to_pandas(df_data, cat_cols=None):\n",
        "    df_data = df_data.to_pandas()\n",
        "\n",
        "    if cat_cols is None:\n",
        "        cat_cols = list(df_data.select_dtypes(\"object\").columns)\n",
        "\n",
        "    df_data[cat_cols] = df_data[cat_cols].astype(\"category\")\n",
        "\n",
        "    return df_data, cat_cols"
      ],
      "metadata": {
        "execution": {
          "iopub.status.busy": "2024-05-01T20:02:14.051826Z",
          "iopub.execute_input": "2024-05-01T20:02:14.052839Z",
          "iopub.status.idle": "2024-05-01T20:02:14.058772Z",
          "shell.execute_reply.started": "2024-05-01T20:02:14.052803Z",
          "shell.execute_reply": "2024-05-01T20:02:14.057546Z"
        },
        "trusted": true,
        "id": "k2FYG9sXyNYH"
      },
      "execution_count": null,
      "outputs": []
    },
    {
      "cell_type": "markdown",
      "source": [
        "### Configuration"
      ],
      "metadata": {
        "id": "X22aayixyNYH"
      }
    },
    {
      "cell_type": "code",
      "source": [
        "ROOT            = Path(\"/kaggle/input/home-credit-credit-risk-model-stability\")\n",
        "TRAIN_DIR       = ROOT / \"parquet_files\" / \"train\"\n",
        "TEST_DIR        = ROOT / \"parquet_files\" / \"test\""
      ],
      "metadata": {
        "execution": {
          "iopub.status.busy": "2024-05-01T20:02:17.543699Z",
          "iopub.execute_input": "2024-05-01T20:02:17.544417Z",
          "iopub.status.idle": "2024-05-01T20:02:17.550266Z",
          "shell.execute_reply.started": "2024-05-01T20:02:17.54438Z",
          "shell.execute_reply": "2024-05-01T20:02:17.548875Z"
        },
        "trusted": true,
        "id": "L6vcg_6fyNYH"
      },
      "execution_count": null,
      "outputs": []
    },
    {
      "cell_type": "markdown",
      "source": [
        "### Train Files Read & Feature Engineering"
      ],
      "metadata": {
        "id": "Dzd-UhF8yNYI"
      }
    },
    {
      "cell_type": "code",
      "source": [
        "data_store = {\n",
        "    \"df_base\": read_file(TRAIN_DIR / \"train_base.parquet\"),\n",
        "    \"depth_0\": [\n",
        "        read_file(TRAIN_DIR / \"train_static_cb_0.parquet\"),\n",
        "        read_files(TRAIN_DIR / \"train_static_0_*.parquet\"),\n",
        "    ],\n",
        "    \"depth_1\": [\n",
        "        read_files(TRAIN_DIR / \"train_applprev_1_*.parquet\", 1),\n",
        "        read_file(TRAIN_DIR / \"train_tax_registry_a_1.parquet\", 1),\n",
        "        read_file(TRAIN_DIR / \"train_tax_registry_b_1.parquet\", 1),\n",
        "        read_file(TRAIN_DIR / \"train_tax_registry_c_1.parquet\", 1),\n",
        "        read_files(TRAIN_DIR / \"train_credit_bureau_a_1_*.parquet\", 1),\n",
        "        read_file(TRAIN_DIR / \"train_credit_bureau_b_1.parquet\", 1),\n",
        "        read_file(TRAIN_DIR / \"train_other_1.parquet\", 1),\n",
        "        read_file(TRAIN_DIR / \"train_person_1.parquet\", 1),\n",
        "        read_file(TRAIN_DIR / \"train_deposit_1.parquet\", 1),\n",
        "        read_file(TRAIN_DIR / \"train_debitcard_1.parquet\", 1),\n",
        "    ],\n",
        "    \"depth_2\": [\n",
        "        read_file(TRAIN_DIR / \"train_credit_bureau_b_2.parquet\", 2),\n",
        "        read_files(TRAIN_DIR / \"train_credit_bureau_a_2_*.parquet\", 2),\n",
        "    ]\n",
        "}"
      ],
      "metadata": {
        "execution": {
          "iopub.status.busy": "2024-05-01T20:02:21.864972Z",
          "iopub.execute_input": "2024-05-01T20:02:21.865411Z",
          "iopub.status.idle": "2024-05-01T20:04:51.246696Z",
          "shell.execute_reply.started": "2024-05-01T20:02:21.865377Z",
          "shell.execute_reply": "2024-05-01T20:04:51.245608Z"
        },
        "trusted": true,
        "id": "qmv4_HnayNYI"
      },
      "execution_count": null,
      "outputs": []
    },
    {
      "cell_type": "code",
      "source": [
        "df_train = feature_eng(**data_store)\n",
        "\n",
        "print(\"train data shape:\\t\", df_train.shape)"
      ],
      "metadata": {
        "execution": {
          "iopub.status.busy": "2024-05-01T20:05:05.543641Z",
          "iopub.execute_input": "2024-05-01T20:05:05.544051Z",
          "iopub.status.idle": "2024-05-01T20:05:20.702219Z",
          "shell.execute_reply.started": "2024-05-01T20:05:05.544018Z",
          "shell.execute_reply": "2024-05-01T20:05:20.701097Z"
        },
        "trusted": true,
        "id": "chDt1iesyNYI",
        "outputId": "2b2c20cf-4da7-4f0d-cad1-d1c512e13202",
        "colab": {
          "base_uri": "https://localhost:8080/"
        }
      },
      "execution_count": null,
      "outputs": [
        {
          "output_type": "stream",
          "name": "stdout",
          "text": [
            "train data shape:\t (1526659, 472)\n"
          ]
        }
      ]
    },
    {
      "cell_type": "markdown",
      "source": [
        "### Test Files Read & Feature Engineering"
      ],
      "metadata": {
        "id": "plS2XFMqyNYI"
      }
    },
    {
      "cell_type": "code",
      "source": [
        "data_store = {\n",
        "    \"df_base\": read_file(TEST_DIR / \"test_base.parquet\"),\n",
        "    \"depth_0\": [\n",
        "        read_file(TEST_DIR / \"test_static_cb_0.parquet\"),\n",
        "        read_files(TEST_DIR / \"test_static_0_*.parquet\"),\n",
        "    ],\n",
        "    \"depth_1\": [\n",
        "        read_files(TEST_DIR / \"test_applprev_1_*.parquet\", 1),\n",
        "        read_file(TEST_DIR / \"test_tax_registry_a_1.parquet\", 1),\n",
        "        read_file(TEST_DIR / \"test_tax_registry_b_1.parquet\", 1),\n",
        "        read_file(TEST_DIR / \"test_tax_registry_c_1.parquet\", 1),\n",
        "        read_files(TEST_DIR / \"test_credit_bureau_a_1_*.parquet\", 1),\n",
        "        read_file(TEST_DIR / \"test_credit_bureau_b_1.parquet\", 1),\n",
        "        read_file(TEST_DIR / \"test_other_1.parquet\", 1),\n",
        "        read_file(TEST_DIR / \"test_person_1.parquet\", 1),\n",
        "        read_file(TEST_DIR / \"test_deposit_1.parquet\", 1),\n",
        "        read_file(TEST_DIR / \"test_debitcard_1.parquet\", 1),\n",
        "    ],\n",
        "    \"depth_2\": [\n",
        "        read_file(TEST_DIR / \"test_credit_bureau_b_2.parquet\", 2),\n",
        "        read_files(TEST_DIR / \"test_credit_bureau_a_2_*.parquet\", 2),\n",
        "    ]\n",
        "}"
      ],
      "metadata": {
        "execution": {
          "iopub.status.busy": "2024-05-01T20:05:23.23637Z",
          "iopub.execute_input": "2024-05-01T20:05:23.237182Z",
          "iopub.status.idle": "2024-05-01T20:05:23.926266Z",
          "shell.execute_reply.started": "2024-05-01T20:05:23.237141Z",
          "shell.execute_reply": "2024-05-01T20:05:23.925096Z"
        },
        "trusted": true,
        "id": "8wzNjH_0yNYI"
      },
      "execution_count": null,
      "outputs": []
    },
    {
      "cell_type": "code",
      "source": [
        "df_test = feature_eng(**data_store)\n",
        "\n",
        "print(\"test data shape:\\t\", df_test.shape)"
      ],
      "metadata": {
        "execution": {
          "iopub.status.busy": "2024-05-01T20:05:32.262862Z",
          "iopub.execute_input": "2024-05-01T20:05:32.263276Z",
          "iopub.status.idle": "2024-05-01T20:05:32.311885Z",
          "shell.execute_reply.started": "2024-05-01T20:05:32.263246Z",
          "shell.execute_reply": "2024-05-01T20:05:32.310545Z"
        },
        "trusted": true,
        "id": "tPYR1DzjyNYI",
        "outputId": "b1bc25fc-5b73-4a22-9052-b7ce991fe979",
        "colab": {
          "base_uri": "https://localhost:8080/"
        }
      },
      "execution_count": null,
      "outputs": [
        {
          "output_type": "stream",
          "name": "stdout",
          "text": [
            "test data shape:\t (10, 471)\n"
          ]
        }
      ]
    },
    {
      "cell_type": "markdown",
      "source": [
        "### Feature Elimination"
      ],
      "metadata": {
        "id": "_zoTh1NJyNYI"
      }
    },
    {
      "cell_type": "code",
      "source": [
        "df_train = df_train.pipe(Pipeline.filter_cols)\n",
        "df_test = df_test.select([col for col in df_train.columns if col != \"target\"])\n",
        "\n",
        "print(\"train data shape:\\t\", df_train.shape)\n",
        "print(\"test data shape:\\t\", df_test.shape)"
      ],
      "metadata": {
        "execution": {
          "iopub.status.busy": "2024-05-01T20:05:35.083579Z",
          "iopub.execute_input": "2024-05-01T20:05:35.084402Z",
          "iopub.status.idle": "2024-05-01T20:05:38.319797Z",
          "shell.execute_reply.started": "2024-05-01T20:05:35.084364Z",
          "shell.execute_reply": "2024-05-01T20:05:38.318688Z"
        },
        "trusted": true,
        "id": "n0LE0UmeyNYI",
        "outputId": "336a4ee8-3577-4dd1-ae51-7560d24dc03f",
        "colab": {
          "base_uri": "https://localhost:8080/"
        }
      },
      "execution_count": null,
      "outputs": [
        {
          "output_type": "stream",
          "name": "stdout",
          "text": [
            "train data shape:\t (1526659, 361)\n",
            "test data shape:\t (10, 360)\n"
          ]
        }
      ]
    },
    {
      "cell_type": "markdown",
      "source": [
        "### Pandas Conversion"
      ],
      "metadata": {
        "id": "dnQj3-QryNYJ"
      }
    },
    {
      "cell_type": "code",
      "source": [
        "df_train, cat_cols = to_pandas(df_train)\n",
        "df_test, cat_cols = to_pandas(df_test, cat_cols)"
      ],
      "metadata": {
        "execution": {
          "iopub.status.busy": "2024-05-01T20:05:41.115675Z",
          "iopub.execute_input": "2024-05-01T20:05:41.116553Z",
          "iopub.status.idle": "2024-05-01T20:06:03.155432Z",
          "shell.execute_reply.started": "2024-05-01T20:05:41.116491Z",
          "shell.execute_reply": "2024-05-01T20:06:03.154088Z"
        },
        "trusted": true,
        "id": "LGlLkW_wyNYJ"
      },
      "execution_count": null,
      "outputs": []
    },
    {
      "cell_type": "markdown",
      "source": [
        "### Garbage Collection"
      ],
      "metadata": {
        "id": "QIm1ELJqyNYJ"
      }
    },
    {
      "cell_type": "code",
      "source": [
        "del data_store\n",
        "\n",
        "gc.collect()"
      ],
      "metadata": {
        "execution": {
          "iopub.status.busy": "2024-05-01T20:06:06.10068Z",
          "iopub.execute_input": "2024-05-01T20:06:06.101108Z",
          "iopub.status.idle": "2024-05-01T20:06:06.282586Z",
          "shell.execute_reply.started": "2024-05-01T20:06:06.101075Z",
          "shell.execute_reply": "2024-05-01T20:06:06.281406Z"
        },
        "trusted": true,
        "id": "75GG5IztyNYJ",
        "outputId": "76170cc7-05bb-4e94-c60f-1bfdc8fdfb70",
        "colab": {
          "base_uri": "https://localhost:8080/"
        }
      },
      "execution_count": null,
      "outputs": [
        {
          "output_type": "execute_result",
          "data": {
            "text/plain": [
              "30"
            ]
          },
          "metadata": {},
          "execution_count": 17
        }
      ]
    },
    {
      "cell_type": "markdown",
      "source": [
        "### EDA"
      ],
      "metadata": {
        "id": "RCsIaDkJyNYJ"
      }
    },
    {
      "cell_type": "code",
      "source": [
        "print(\"Train is duplicated:\\t\", df_train[\"case_id\"].duplicated().any())\n",
        "print(\"Train Week Range:\\t\", (df_train[\"WEEK_NUM\"].min(), df_train[\"WEEK_NUM\"].max()))\n",
        "\n",
        "print()\n",
        "\n",
        "print(\"Test is duplicated:\\t\", df_test[\"case_id\"].duplicated().any())\n",
        "print(\"Test Week Range:\\t\", (df_test[\"WEEK_NUM\"].min(), df_test[\"WEEK_NUM\"].max()))"
      ],
      "metadata": {
        "execution": {
          "iopub.status.busy": "2024-05-01T20:06:10.909462Z",
          "iopub.execute_input": "2024-05-01T20:06:10.910451Z",
          "iopub.status.idle": "2024-05-01T20:06:10.944101Z",
          "shell.execute_reply.started": "2024-05-01T20:06:10.910408Z",
          "shell.execute_reply": "2024-05-01T20:06:10.942798Z"
        },
        "trusted": true,
        "id": "BKhAtCeLyNYJ",
        "outputId": "96e97cfc-053b-4b01-d6ab-ad73744bf336",
        "colab": {
          "base_uri": "https://localhost:8080/"
        }
      },
      "execution_count": null,
      "outputs": [
        {
          "output_type": "stream",
          "name": "stdout",
          "text": [
            "Train is duplicated:\t False\n",
            "Train Week Range:\t (0, 91)\n",
            "\n",
            "Test is duplicated:\t False\n",
            "Test Week Range:\t (100, 100)\n"
          ]
        }
      ]
    },
    {
      "cell_type": "code",
      "source": [
        "sns.lineplot(\n",
        "    data=df_train,\n",
        "    x=\"WEEK_NUM\",\n",
        "    y=\"target\",\n",
        ")\n",
        "plt.show()"
      ],
      "metadata": {
        "execution": {
          "iopub.status.busy": "2024-05-01T20:06:13.535657Z",
          "iopub.execute_input": "2024-05-01T20:06:13.536099Z",
          "iopub.status.idle": "2024-05-01T20:06:33.349584Z",
          "shell.execute_reply.started": "2024-05-01T20:06:13.536064Z",
          "shell.execute_reply": "2024-05-01T20:06:33.348387Z"
        },
        "trusted": true,
        "id": "qGQ_9ywayNYJ",
        "outputId": "e7664b6b-b3ae-4f9c-d1e5-f773048f83b2",
        "colab": {
          "base_uri": "https://localhost:8080/",
          "height": 449
        }
      },
      "execution_count": null,
      "outputs": [
        {
          "output_type": "display_data",
          "data": {
            "text/plain": [
              "<Figure size 640x480 with 1 Axes>"
            ],
            "image/png": "[encoded data removed]"
          },
          "metadata": {}
        }
      ]
    },
    {
      "cell_type": "markdown",
      "source": [
        "### Training"
      ],
      "metadata": {
        "id": "fiXw6Dk-yNYJ"
      }
    },
    {
      "cell_type": "markdown",
      "source": [
        "LightGBM Model"
      ],
      "metadata": {
        "id": "14DYYFdxyNYJ"
      }
    },
    {
      "cell_type": "code",
      "source": [
        "X = df_train.drop(columns=[\"target\", \"case_id\", \"WEEK_NUM\"])\n",
        "y = df_train[\"target\"]\n",
        "weeks = df_train[\"WEEK_NUM\"]\n",
        "\n",
        "cv = StratifiedGroupKFold(n_splits=5, shuffle=False)\n",
        "\n",
        "params = {\n",
        "    \"boosting_type\": \"gbdt\",\n",
        "    \"objective\": \"binary\",\n",
        "    \"metric\": \"auc\",\n",
        "    \"max_depth\": 8,\n",
        "    \"learning_rate\": 0.05,\n",
        "    \"n_estimators\": 1000,\n",
        "    \"colsample_bytree\": 0.8,\n",
        "    \"colsample_bynode\": 0.8,\n",
        "    \"verbose\": -1,\n",
        "    \"random_state\": 42,\n",
        "    \"device\": \"gpu\",\n",
        "}\n",
        "\n",
        "fitted_models = []\n",
        "\n",
        "for idx_train, idx_valid in cv.split(X, y, groups=weeks):\n",
        "    X_train, y_train = X.iloc[idx_train], y.iloc[idx_train]\n",
        "    X_valid, y_valid = X.iloc[idx_valid], y.iloc[idx_valid]\n",
        "\n",
        "    model = lgb.LGBMClassifier(**params)\n",
        "    model.fit(\n",
        "        X_train, y_train,\n",
        "        eval_set=[(X_valid, y_valid)],\n",
        "        callbacks=[lgb.log_evaluation(100), lgb.early_stopping(100)]\n",
        "    )\n",
        "\n",
        "    fitted_models.append(model)\n",
        "\n",
        "model = VotingModel(fitted_models)"
      ],
      "metadata": {
        "trusted": true,
        "id": "zixPZFF-yNYJ"
      },
      "execution_count": null,
      "outputs": []
    },
    {
      "cell_type": "markdown",
      "source": [
        "### Prediction"
      ],
      "metadata": {
        "id": "dP4q_uQEyNYL"
      }
    },
    {
      "cell_type": "code",
      "source": [
        "#LightGBM prediction\n",
        "X_test = df_test.drop(columns=[\"WEEK_NUM\"])\n",
        "X_test = X_test.set_index(\"case_id\")\n",
        "\n",
        "y_pred = pd.Series(model.predict_proba(X_test)[:, 1], index=X_test.index)"
      ],
      "metadata": {
        "_kg_hide-output": false,
        "trusted": true,
        "id": "FyPehHkDyNYO"
      },
      "execution_count": null,
      "outputs": []
    },
    {
      "cell_type": "markdown",
      "source": [
        "### Result\n"
      ],
      "metadata": {
        "id": "gCH6VqhkyNYO"
      }
    },
    {
      "cell_type": "code",
      "source": [
        "df_subm = pd.read_csv(ROOT / \"sample_submission.csv\")\n",
        "df_subm = df_subm.set_index(\"case_id\")\n",
        "\n",
        "df_subm[\"score\"] = y_pred"
      ],
      "metadata": {
        "trusted": true,
        "id": "Bqbv-jv3yNYO"
      },
      "execution_count": null,
      "outputs": []
    },
    {
      "cell_type": "code",
      "source": [
        "print(\"Check null: \", df_subm[\"score\"].isnull().any())\n",
        "\n",
        "df_subm.head()"
      ],
      "metadata": {
        "trusted": true,
        "id": "Zuu7RrzYyNYP",
        "outputId": "dba2aec0-f3ed-4a47-c69c-d363ae75711b",
        "colab": {
          "base_uri": "https://localhost:8080/",
          "height": 381
        }
      },
      "execution_count": null,
      "outputs": [
        {
          "output_type": "stream",
          "name": "stdout",
          "text": [
            "Check null:  False\n"
          ]
        },
        {
          "output_type": "execute_result",
          "data": {
            "text/plain": [
              "            score\n",
              "case_id          \n",
              "57543    0.013924\n",
              "57549    0.050963\n",
              "57551    0.003002\n",
              "57552    0.009595\n",
              "57569    0.109649"
            ],
            "text/html": [
              "\n",
              "  <div id=\"df-96babc07-0226-498d-9447-fc7de2b67bf1\" class=\"colab-df-container\">\n",
              "    <div>\n",
              "<style scoped>\n",
              "    .dataframe tbody tr th:only-of-type {\n",
              "        vertical-align: middle;\n",
              "    }\n",
              "\n",
              "    .dataframe tbody tr th {\n",
              "        vertical-align: top;\n",
              "    }\n",
              "\n",
              "    .dataframe thead th {\n",
              "        text-align: right;\n",
              "    }\n",
              "</style>\n",
              "<table border=\"1\" class=\"dataframe\">\n",
              "  <thead>\n",
              "    <tr style=\"text-align: right;\">\n",
              "      <th></th>\n",
              "      <th>score</th>\n",
              "    </tr>\n",
              "    <tr>\n",
              "      <th>case_id</th>\n",
              "      <th></th>\n",
              "    </tr>\n",
              "  </thead>\n",
              "  <tbody>\n",
              "    <tr>\n",
              "      <th>57543</th>\n",
              "      <td>0.013924</td>\n",
              "    </tr>\n",
              "    <tr>\n",
              "      <th>57549</th>\n",
              "      <td>0.050963</td>\n",
              "    </tr>\n",
              "    <tr>\n",
              "      <th>57551</th>\n",
              "      <td>0.003002</td>\n",
              "    </tr>\n",
              "    <tr>\n",
              "      <th>57552</th>\n",
              "      <td>0.009595</td>\n",
              "    </tr>\n",
              "    <tr>\n",
              "      <th>57569</th>\n",
              "      <td>0.109649</td>\n",
              "    </tr>\n",
              "  </tbody>\n",
              "</table>\n",
              "</div>\n",
              "    <div class=\"colab-df-buttons\">\n",
              "\n",
              "  <div class=\"colab-df-container\">\n",
              "    <button class=\"colab-df-convert\" onclick=\"convertToInteractive('df-96babc07-0226-498d-9447-fc7de2b67bf1')\"\n",
              "            title=\"Convert this dataframe to an interactive table.\"\n",
              "            style=\"display:none;\">\n",
              "\n",
              "  <svg xmlns=\"http://www.w3.org/2000/svg\" height=\"24px\" viewBox=\"0 -960 960 960\">\n",
              "    <path d=\"M120-120v-720h720v720H120Zm60-500h600v-160H180v160Zm220 220h160v-160H400v160Zm0 220h160v-160H400v160ZM180-400h160v-160H180v160Zm440 0h160v-160H620v160ZM180-180h160v-160H180v160Zm440 0h160v-160H620v160Z\"/>\n",
              "  </svg>\n",
              "    </button>\n",
              "\n",
              "  <style>\n",
              "    .colab-df-container {\n",
              "      display:flex;\n",
              "      gap: 12px;\n",
              "    }\n",
              "\n",
              "    .colab-df-convert {\n",
              "      background-color: #E8F0FE;\n",
              "      border: none;\n",
              "      border-radius: 50%;\n",
              "      cursor: pointer;\n",
              "      display: none;\n",
              "      fill: #1967D2;\n",
              "      height: 32px;\n",
              "      padding: 0 0 0 0;\n",
              "      width: 32px;\n",
              "    }\n",
              "\n",
              "    .colab-df-convert:hover {\n",
              "      background-color: #E2EBFA;\n",
              "      box-shadow: 0px 1px 2px rgba(60, 64, 67, 0.3), 0px 1px 3px 1px rgba(60, 64, 67, 0.15);\n",
              "      fill: #174EA6;\n",
              "    }\n",
              "\n",
              "    .colab-df-buttons div {\n",
              "      margin-bottom: 4px;\n",
              "    }\n",
              "\n",
              "    [theme=dark] .colab-df-convert {\n",
              "      background-color: #3B4455;\n",
              "      fill: #D2E3FC;\n",
              "    }\n",
              "\n",
              "    [theme=dark] .colab-df-convert:hover {\n",
              "      background-color: #434B5C;\n",
              "      box-shadow: 0px 1px 3px 1px rgba(0, 0, 0, 0.15);\n",
              "      filter: drop-shadow(0px 1px 2px rgba(0, 0, 0, 0.3));\n",
              "      fill: #FFFFFF;\n",
              "    }\n",
              "  </style>\n",
              "\n",
              "    <script>\n",
              "      const buttonEl =\n",
              "        document.querySelector('#df-96babc07-0226-498d-9447-fc7de2b67bf1 button.colab-df-convert');\n",
              "      buttonEl.style.display =\n",
              "        google.colab.kernel.accessAllowed ? 'block' : 'none';\n",
              "\n",
              "      async function convertToInteractive(key) {\n",
              "        const element = document.querySelector('#df-96babc07-0226-498d-9447-fc7de2b67bf1');\n",
              "        const dataTable =\n",
              "          await google.colab.kernel.invokeFunction('convertToInteractive',\n",
              "                                                    [key], {});\n",
              "        if (!dataTable) return;\n",
              "\n",
              "        const docLinkHtml = 'Like what you see? Visit the ' +\n",
              "          '<a target=\"_blank\" href=https://colab.research.google.com/notebooks/data_table.ipynb>data table notebook</a>'\n",
              "          + ' to learn more about interactive tables.';\n",
              "        element.innerHTML = '';\n",
              "        dataTable['output_type'] = 'display_data';\n",
              "        await google.colab.output.renderOutput(dataTable, element);\n",
              "        const docLink = document.createElement('div');\n",
              "        docLink.innerHTML = docLinkHtml;\n",
              "        element.appendChild(docLink);\n",
              "      }\n",
              "    </script>\n",
              "  </div>\n",
              "\n",
              "\n",
              "<div id=\"df-1d16ce7f-8a9a-489b-a90e-ecc28ad0c9c9\">\n",
              "  <button class=\"colab-df-quickchart\" onclick=\"quickchart('df-1d16ce7f-8a9a-489b-a90e-ecc28ad0c9c9')\"\n",
              "            title=\"Suggest charts\"\n",
              "            style=\"display:none;\">\n",
              "\n",
              "<svg xmlns=\"http://www.w3.org/2000/svg\" height=\"24px\"viewBox=\"0 0 24 24\"\n",
              "     width=\"24px\">\n",
              "    <g>\n",
              "        <path d=\"M19 3H5c-1.1 0-2 .9-2 2v14c0 1.1.9 2 2 2h14c1.1 0 2-.9 2-2V5c0-1.1-.9-2-2-2zM9 17H7v-7h2v7zm4 0h-2V7h2v10zm4 0h-2v-4h2v4z\"/>\n",
              "    </g>\n",
              "</svg>\n",
              "  </button>\n",
              "\n",
              "<style>\n",
              "  .colab-df-quickchart {\n",
              "      --bg-color: #E8F0FE;\n",
              "      --fill-color: #1967D2;\n",
              "      --hover-bg-color: #E2EBFA;\n",
              "      --hover-fill-color: #174EA6;\n",
              "      --disabled-fill-color: #AAA;\n",
              "      --disabled-bg-color: #DDD;\n",
              "  }\n",
              "\n",
              "  [theme=dark] .colab-df-quickchart {\n",
              "      --bg-color: #3B4455;\n",
              "      --fill-color: #D2E3FC;\n",
              "      --hover-bg-color: #434B5C;\n",
              "      --hover-fill-color: #FFFFFF;\n",
              "      --disabled-bg-color: #3B4455;\n",
              "      --disabled-fill-color: #666;\n",
              "  }\n",
              "\n",
              "  .colab-df-quickchart {\n",
              "    background-color: var(--bg-color);\n",
              "    border: none;\n",
              "    border-radius: 50%;\n",
              "    cursor: pointer;\n",
              "    display: none;\n",
              "    fill: var(--fill-color);\n",
              "    height: 32px;\n",
              "    padding: 0;\n",
              "    width: 32px;\n",
              "  }\n",
              "\n",
              "  .colab-df-quickchart:hover {\n",
              "    background-color: var(--hover-bg-color);\n",
              "    box-shadow: 0 1px 2px rgba(60, 64, 67, 0.3), 0 1px 3px 1px rgba(60, 64, 67, 0.15);\n",
              "    fill: var(--button-hover-fill-color);\n",
              "  }\n",
              "\n",
              "  .colab-df-quickchart-complete:disabled,\n",
              "  .colab-df-quickchart-complete:disabled:hover {\n",
              "    background-color: var(--disabled-bg-color);\n",
              "    fill: var(--disabled-fill-color);\n",
              "    box-shadow: none;\n",
              "  }\n",
              "\n",
              "  .colab-df-spinner {\n",
              "    border: 2px solid var(--fill-color);\n",
              "    border-color: transparent;\n",
              "    border-bottom-color: var(--fill-color);\n",
              "    animation:\n",
              "      spin 1s steps(1) infinite;\n",
              "  }\n",
              "\n",
              "  @keyframes spin {\n",
              "    0% {\n",
              "      border-color: transparent;\n",
              "      border-bottom-color: var(--fill-color);\n",
              "      border-left-color: var(--fill-color);\n",
              "    }\n",
              "    20% {\n",
              "      border-color: transparent;\n",
              "      border-left-color: var(--fill-color);\n",
              "      border-top-color: var(--fill-color);\n",
              "    }\n",
              "    30% {\n",
              "      border-color: transparent;\n",
              "      border-left-color: var(--fill-color);\n",
              "      border-top-color: var(--fill-color);\n",
              "      border-right-color: var(--fill-color);\n",
              "    }\n",
              "    40% {\n",
              "      border-color: transparent;\n",
              "      border-right-color: var(--fill-color);\n",
              "      border-top-color: var(--fill-color);\n",
              "    }\n",
              "    60% {\n",
              "      border-color: transparent;\n",
              "      border-right-color: var(--fill-color);\n",
              "    }\n",
              "    80% {\n",
              "      border-color: transparent;\n",
              "      border-right-color: var(--fill-color);\n",
              "      border-bottom-color: var(--fill-color);\n",
              "    }\n",
              "    90% {\n",
              "      border-color: transparent;\n",
              "      border-bottom-color: var(--fill-color);\n",
              "    }\n",
              "  }\n",
              "</style>\n",
              "\n",
              "  <script>\n",
              "    async function quickchart(key) {\n",
              "      const quickchartButtonEl =\n",
              "        document.querySelector('#' + key + ' button');\n",
              "      quickchartButtonEl.disabled = true;  // To prevent multiple clicks.\n",
              "      quickchartButtonEl.classList.add('colab-df-spinner');\n",
              "      try {\n",
              "        const charts = await google.colab.kernel.invokeFunction(\n",
              "            'suggestCharts', [key], {});\n",
              "      } catch (error) {\n",
              "        console.error('Error during call to suggestCharts:', error);\n",
              "      }\n",
              "      quickchartButtonEl.classList.remove('colab-df-spinner');\n",
              "      quickchartButtonEl.classList.add('colab-df-quickchart-complete');\n",
              "    }\n",
              "    (() => {\n",
              "      let quickchartButtonEl =\n",
              "        document.querySelector('#df-1d16ce7f-8a9a-489b-a90e-ecc28ad0c9c9 button');\n",
              "      quickchartButtonEl.style.display =\n",
              "        google.colab.kernel.accessAllowed ? 'block' : 'none';\n",
              "    })();\n",
              "  </script>\n",
              "</div>\n",
              "    </div>\n",
              "  </div>\n"
            ],
            "application/vnd.google.colaboratory.intrinsic+json": {
              "type": "dataframe",
              "variable_name": "df_subm",
              "summary": "{\n  \"name\": \"df_subm\",\n  \"rows\": 10,\n  \"fields\": [\n    {\n      \"column\": \"case_id\",\n      \"properties\": {\n        \"dtype\": \"number\",\n        \"std\": 42,\n        \"min\": 57543,\n        \"max\": 57634,\n        \"num_unique_values\": 10,\n        \"samples\": [\n          57633,\n          57549,\n          57630\n        ],\n        \"semantic_type\": \"\",\n        \"description\": \"\"\n      }\n    },\n    {\n      \"column\": \"score\",\n      \"properties\": {\n        \"dtype\": \"float32\",\n        \"num_unique_values\": 10,\n        \"samples\": [\n          0.0216815322637558,\n          0.050962645560503006,\n          0.009048571810126305\n        ],\n        \"semantic_type\": \"\",\n        \"description\": \"\"\n      }\n    }\n  ]\n}"
            }
          },
          "metadata": {},
          "execution_count": 25
        },
        {
          "output_type": "display_data",
          "data": {
            "text/plain": [
              "<google.colab._quickchart_helpers.SectionTitle at 0x7e0ce29ffc70>"
            ],
            "text/html": [
              "<h4 class=\"colab-quickchart-section-title\">Distributions</h4>\n",
              "<style>\n",
              "  .colab-quickchart-section-title {\n",
              "      clear: both;\n",
              "  }\n",
              "</style>"
            ]
          },
          "metadata": {}
        },
        {
          "output_type": "display_data",
          "data": {
            "text/plain": [
              "from matplotlib import pyplot as plt\n",
              "_df_0['score'].plot(kind='hist', bins=20, title='score')\n",
              "plt.gca().spines[['top', 'right',]].set_visible(False)"
            ],
            "text/html": [
              "      <div class=\"colab-quickchart-chart-with-code\" id=\"chart-5ef56f5d-5a97-49d3-98ee-5eb53727049b\">\n",
              "        <img style=\"width: 180px;\" src=\"data:image/png;base64,iVBORw0KGgoAAAANSUhEUgAAAioAAAGrCAYAAADuNLxTAAAAOXRFWHRTb2Z0d2FyZQBNYXRwbG90\n",
              "bGliIHZlcnNpb24zLjcuMSwgaHR0cHM6Ly9tYXRwbG90bGliLm9yZy/bCgiHAAAACXBIWXMAAA9h\n",
              "AAAPYQGoP6dpAAAfYklEQVR4nO3de3CU5f2/8feS4FZrDgpBMkmWSEJCQEjkkNJAW5CxRb5AFGxH\n",
              "O1Gi5gAyo21sQaSOxkODbZ1KdRwWcOJQpqKFKBlEHRVkUKMQ8QBBJQmEjRoIFWXxQGCT+/cHP1O2\n",
              "McjCPskdcr1mdobd3Dx8nnvi5HL3ya7LGGMEAABgoT7dPQAAAEBnCBUAAGAtQgUAAFiLUAEAANYi\n",
              "VAAAgLUIFQAAYC1CBQAAWItQAQAA1iJUAACAtQgVAABgLUIFAABYi1AB0OO1traqra2tu8cA4ABC\n",
              "BYCjHnvsMaWkpCgqKkqXXHKJ8vPzJUmHDh3SrbfeqksvvVRRUVEaOnSoXnrpJUknwuOvf/2r0tLS\n",
              "FBMTozFjxuiFF15oP+Zrr70ml8ul1atXKy0tTRdccIGam5v15Zdfau7cuRo0aJD69eunqVOnas+e\n",
              "Pd1x2gDChFAB4Jja2lrNnz9f69at05EjR1RfX6+bb75ZxhhdffXVamho0ObNm+X3+7VhwwYlJSVJ\n",
              "kh555BEtWbJEq1ev1ueff64//OEPys3N1fbt24OO//TTT6uqqkp+v19xcXG65ppr5Pf79e677+qz\n",
              "zz7TiBEjNG3aNB0/frw7Th9AGLiMMaa7hwBwbtq7d6+GDRumJ598UldddZWio6MlSdXV1crOztaB\n",
              "AwcUFxfX4e+lp6fr1ltv1e23397+WG5uruLj47V06VK99tprmjRpkj766COlp6dLkrZv365x48bp\n",
              "0KFDuvDCCyWdeGbmwgsv1Msvv6wJEyZ0wRkDCDeeUQHgmEsvvVSrV69WeXm5PB6Pxo4dq6eeekp7\n",
              "9+7VRRdd9L2RIkmNjY1KSUkJeiw1NVU+n6/D8b9TW1urQCCgxMRExcbGKjY2Vv369Ws/HoCeKbK7\n",
              "BwBwbsvNzVVubq4CgYAqKip03XXXqaqqSl988YX+85//qH///h3+TlJSkurr64Meq6+vl8fjCXqs\n",
              "T5///r/WwIEDdd555+ngwYPq27evMycDoMvxjAoAx3z88cfasGGDvvrqK0VGRiomJkaS1L9/f+Xk\n",
              "5Oimm27SJ598IunEy0QffvihJKmgoEB/+9vf9N577ykQCOiZZ57Rhg0bVFBQ0Om/NWHCBF122WWa\n",
              "O3eumpubJUlffPGF1q5dq2+++cbhMwXgFEIFgGOOHTumBx98UAkJCYqOjtYdd9yhlStXKiUlRevW\n",
              "rVN8fLx++tOfKioqSlOnTm1/iaakpETz5s3Ttddeq4svvlgPPfSQKioqNGbMmE7/rYiICL388su6\n",
              "4IIL9JOf/ERRUVHKzMzUs88+K5fL1VWnDCDMuJgWAABYi2dUAACAtQgVAABgLUIFAABYi1ABAADW\n",
              "IlQAAIC1CBUAAGAtQgUAAFjrnAiVJUuWdPcIAADAAedEqOzbt6+7RwAAAA44J0IFAACcmwgVAABg\n",
              "LUIFAABYi1ABAADWIlQAAIC1CBUAAGAtQgUAAFiLUAEAANYiVAAAgLUIFQAAYC1CBQAAWItQAQAA\n",
              "1nI0VG677TYlJyfL5XLpvffe63TdE088oSFDhiglJUWFhYU6fvy4k2MBAIAewtFQufbaa/X6669r\n",
              "0KBBna7Zu3ev7r77bm3ZskV1dXU6cOCAli1b5uRYAACgh3A0VH7+858rMTHxlGvWrFmjGTNmaODA\n",
              "gXK5XJozZ46eeuqpTte3tLTI7/cH3VpbW8M9OgAAsEBkdw/g8/mCnnFJTk6Wz+frdH1ZWZlKS0uD\n",
              "Hhs3bpwjsyXf+bwjx+2pGhb/X3ePgLPk1Pc03xtA9ztX//vucRfTLly4UIcPHw66ZWdnd/dYAADA\n",
              "Ad3+jIrH41F9fX37/YaGBnk8nk7Xu91uud3uoMciIiIcmw8AAHSfbn9GZdasWaqsrNT+/ftljNHS\n",
              "pUt13XXXdfdYAADAAo6GSnFxsRITE/XJJ5/oV7/6lVJTUyVJBQUFqqyslCQNHjxYpaWlGj9+vFJT\n",
              "UxUXF6fi4mInxwIAAD2Eoy/9eL3e7318xYoVQfcLCwtVWFjo5CgAAKAH6vaXfgAAADpDqAAAAGsR\n",
              "KgAAwFqECgAAsBahAgAArEWoAAAAaxEqAADAWoQKAACwFqECAACsRagAAABrESoAAMBahAoAALAW\n",
              "oQIAAKxFqAAAAGsRKgAAwFqECgAAsBahAgAArEWoAAAAaxEqAADAWoQKAACwFqECAACsRagAAABr\n",
              "ESoAAMBahAoAALAWoQIAAKxFqAAAAGsRKgAAwFqECgAAsBahAgAArEWoAAAAaxEqAADAWoQKAACw\n",
              "FqECAACsRagAAABrESoAAMBahAoAALAWoQIAAKxFqAAAAGsRKgAAwFqECgAAsBahAgAArEWoAAAA\n",
              "axEqAADAWoQKAACwFqECAACsRagAAABrESoAAMBahAoAALAWoQIAAKxFqAAAAGsRKgAAwFqECgAA\n",
              "sBahAgAArEWoAAAAaxEqAADAWoQKAACwFqECAACsRagAAABrESoAAMBahAoAALAWoQIAAKzlaKjU\n",
              "1tYqJydHaWlpGjt2rGpqajqsaWtrU0lJiYYNG6aRI0dq0qRJqqurc3IsAADQQzgaKsXFxSoqKtLu\n",
              "3bu1YMEC5efnd1hTWVmpN954Q++//74++OADTZ48WXfddZeTYwEAgB7CsVBpbm5WdXW18vLyJEmz\n",
              "Zs1SY2Njh2dLXC6XWlpadPToURlj5Pf7lZiY6NRYAACgB4l06sCNjY2Kj49XZOSJf8Llcsnj8cjn\n",
              "8yk1NbV93fTp07Vp0yYNHDhQUVFRSkhI0ObNmzs9bktLi1paWoIea21tdeYkAABAt+r2i2mrq6u1\n",
              "c+dOffrpp/rss880efJkzZkzp9P1ZWVliomJCbpt3bq1CycGAABdxbFQSUpKUlNTkwKBgCTJGCOf\n",
              "zyePxxO0buXKlbriiisUGxurPn36aPbs2dq0aVOnx124cKEOHz4cdMvOznbqNAAAQDdyLFQGDBig\n",
              "UaNGadWqVZKktWvXKjExMehlH0kaPHiwNm7cqGPHjkmS1q9fr8suu6zT47rdbkVHRwfdIiIinDoN\n",
              "AADQjRy7RkWSvF6v8vPz9ec//1nR0dEqLy+XJBUUFGjGjBmaMWOG5s2bpw8//FCZmZnq27evBg4c\n",
              "qKVLlzo5FgAA6CEcDZX09HRVVVV1eHzFihXtf3a73Vq+fLmTYwAAgB6q2y+mBQAA6AyhAgAArEWo\n",
              "AAAAaxEqAADAWoQKAACwFqECAACsRagAAABrESoAAMBahAoAALAWoQIAAKxFqAAAAGsRKgAAwFqE\n",
              "CgAAsBahAgAArEWoAAAAaxEqAADAWoQKAACwFqECAACsRagAAABrESoAAMBahAoAALAWoQIAAKxF\n",
              "qAAAAGsRKgAAwFqECgAAsBahAgAArEWoAAAAaxEqAADAWoQKAACwFqECAACsRagAAABrESoAAMBa\n",
              "hAoAALAWoQIAAKxFqAAAAGsRKgAAwFqECgAAsBahAgAArEWoAAAAaxEqAADAWoQKAACwFqECAACs\n",
              "RagAAABrESoAAMBahAoAALAWoQIAAKxFqAAAAGsRKgAAwFqECgAAsBahAgAArEWoAAAAaxEqAADA\n",
              "WoQKAACwFqECAACsRagAAABrESoAAMBahAoAALAWoQIAAKxFqAAAAGsRKgAAwFqECgAAsBahAgAA\n",
              "rOVoqNTW1ionJ0dpaWkaO3asampqvnfdjh07NHHiRGVkZCgjI0MVFRVOjgUAAHqISCcPXlxcrKKi\n",
              "IuXn52vNmjXKz8/Xtm3bgtZ88803ys3N1cqVKzVhwgS1trbq0KFDTo4FAAB6CMeeUWlublZ1dbXy\n",
              "8vIkSbNmzVJjY6Pq6uqC1v3rX//SuHHjNGHCBElSRESE4uLiOj1uS0uL/H5/0K21tdWp0wAAAN3I\n",
              "sVBpbGxUfHy8IiNPPGnjcrnk8Xjk8/mC1u3atUtut1vTpk1TVlaWbrzxRh08eLDT45aVlSkmJibo\n",
              "tnXrVqdOAwAAdKOQQ+Wll14K6wCBQECvvPKKvF6v3n33XSUkJGju3Lmdrl+4cKEOHz4cdMvOzg7r\n",
              "TAAAwA4hh8p9992n9PR0LVmyRH6/v9N1SUlJampqUiAQkCQZY+Tz+eTxeILWeTweTZo0SQkJCXK5\n",
              "XMrLy9Nbb73V6XHdbreio6ODbhEREaGeBgAA6AFCDpU33nhDq1ev1s6dO5WWlqZbb71Vu3bt6rBu\n",
              "wIABGjVqlFatWiVJWrt2rRITE5Wamhq07je/+Y22bdvWHj0bNmxQZmbmmZwLAAA4x5zRNSqXX365\n",
              "li9frhdffFHr16/XyJEjdeWVV2rHjh1B67xer7xer9LS0rR48WKVl5dLkgoKClRZWSnpxDMqd911\n",
              "l3JycjRy5Eht3LhRS5cuPcvTAgAA54Iz+vXkV155RY8++qh27NihefPm6ZZbbtFrr72ma665Jui3\n",
              "etLT01VVVdXh769YsSLo/g033KAbbrjhTEYBAADnsJBDJSMjQ/3799dtt92mmTNntl8fcu211+qJ\n",
              "J54I+4AAAKD3CjlUVq1apdGjR3/v11544YWzHggAAOA7IV+j8s477wS9c+znn3+u5cuXh3UoAAAA\n",
              "6QxC5fHHH9fFF1/cfr9fv356/PHHwzoUAACAdAahYozp8BhvYQ8AAJwQcqjEx8frmWeeab//9NNP\n",
              "Kz4+PqxDAQAASGdwMe0jjzyi3NxczZ8/X5J0wQUXaN26dWEfDAAAIORQGTp0qHbt2qWPP/5Y0on3\n",
              "SuEt7AEAgBPO6A3fXC6XYmNjFQgE9Omnn0pSh8/wAQAAOFshh8qTTz6p2267TX379lWfPicucXG5\n",
              "XGpubg77cAAAoHcLOVTuv/9+bdu2Tenp6U7MAwAA0C7k3/rp378/kQIAALpEyKFy9dVX65FHHlFz\n",
              "c7P8fn/7DQAAINxCfuln0aJFkqSSkhK5XC4ZY+RyuXjTNwAAEHYhh0pbW5sTcwAAAHQQ8ks/0okP\n",
              "JvznP/8pSfryyy/V1NQU1qEAAACkM/xQwptvvln33nuvpBOfnvzb3/423HMBAACEHirLli3TW2+9\n",
              "pejoaElSSkqKDh48GPbBAAAAQg4Vt9ut888/P+ixyMgzeoNbAACAUwo5VOLi4rR79265XC5JJ96p\n",
              "lrfPBwAATjijT0++/vrr9dFHHykpKUnR0dFav369E7MBAIBeLuRQSU1N1dtvv62PP/5Yxhg+PRkA\n",
              "ADgm5FDx+XySpB//+MeSxKcnAwAAx4QcKqNHj25/R9qjR4/qm2++Ub9+/fj0ZAAAEHYhh8r//ipy\n",
              "RUWF3n///bANBAAA8J0zemfak82cOVPPP/98OGYBAAAIEvIzKid/UnJra6vefvttPj0ZAAA4IuRQ\n",
              "iY2Nbb9GJSIiQkOGDNE//vEPJ2YDAAC9HJ+eDAAArHXW16gAAAA4JeRnVPr06dP+9vknM8bI5XKp\n",
              "tbU1LIMBAACEHCr33Xefvv32W82dO1eStHTpUp1//vn63e9+F+7ZAABALxdyqDz77LN655132u8/\n",
              "8MADGj16tBYtWhTWwQAAAEK+RuXIkSNB70Lb3NysI0eOhHUoAAAA6QyeUbnjjjuUmZmpqVOnSpJe\n",
              "fPFF3XvvveGeCwAAIPRQKS4u1vjx47Vp0yZJUklJiYYPHx72wQAAAEIOFUnq16+fRowYoYkTJyoQ\n",
              "COjYsWM677zzwj0bAADo5UK+RmXNmjUaN26cbrrpJklSTU2Nrr766nDPBQAAEHqolJWVafv27YqN\n",
              "jZUkZWZmat++feGeCwAAIPRQiYiIUL9+/YIe42UfAADghJBDJSoqSgcOHGh/d9pXX31VF198cdgH\n",
              "AwAACPli2oceekhXXXWV9uzZowkTJmjv3r16/vnnnZgNAAD0ciGFSltbm1pbW7Vp0ya9+eabMsYo\n",
              "Jyen/XoVAACAcAopVPr06aOioiK9//77uuqqq5yaCQAAQNIZXKMyZMgQ1dXVOTELAABAkJCvUTl0\n",
              "6JCysrKUk5OjCy+8sP3xioqKsA4GAABw2qFSVFSkZcuWafbs2ZoxY4YuuugiJ+cCAAA4/VCprq6W\n",
              "JM2ePVujRo3S9u3bHRsKAABAOoNrVCTJGBPuOQAAADo47WdUvv32W+3YsUPGGB09erT9z98ZOXKk\n",
              "IwMCAIDeK6RQmTFjRvv9k//scrm0Z8+e8E4GAAB6vdMOlYaGBgfHAAAA6OiMrlEBAADoCoQKAACw\n",
              "FqECAACsRagAAABrESoAAMBahAoAALAWoQIAAKxFqAAAAGsRKgAAwFqOhkptba1ycnKUlpamsWPH\n",
              "qqamptO1xhhdccUVio2NdXIkAADQgzgaKsXFxSoqKtLu3bu1YMEC5efnd7r273//u1JSUpwcBwAA\n",
              "9DCOhUpzc7Oqq6uVl5cnSZo1a5YaGxtVV1fXYW1NTY2ee+453XnnnT943JaWFvn9/qBba2tr2OcH\n",
              "AADdz7FQaWxsVHx8vCIjT3zuocvlksfjkc/nC1p3/PhxFRYWyuv1KiIi4gePW1ZWppiYmKDb1q1b\n",
              "HTkHAADQvbr9YtrS0lLNnDlTGRkZp7V+4cKFOnz4cNAtOzvb4SkBAEB3iHTqwElJSWpqalIgEFBk\n",
              "ZKSMMfL5fPJ4PEHrNm/eLJ/Pp8cee0yBQEB+v1/Jycnatm2b4uLiOhzX7XbL7XYHPXY6z8QAAICe\n",
              "x7FnVAYMGKBRo0Zp1apVkqS1a9cqMTFRqampQeu2bNmiffv2qaGhQa+//rqio6PV0NDwvZECAAB6\n",
              "F0df+vF6vfJ6vUpLS9PixYtVXl4uSSooKFBlZaWT/zQAADgHOPbSjySlp6erqqqqw+MrVqz43vXJ\n",
              "ycn68ssvnRwJAAD0IN1+MS0AAEBnCBUAAGAtQgUAAFiLUAEAANYiVAAAgLUIFQAAYC1CBQAAWItQ\n",
              "AQAA1iJUAACAtQgVAABgLUIFAABYi1ABAADWIlQAAIC1CBUAAGAtQgUAAFiLUAEAANYiVAAAgLUI\n",
              "FQAAYC1CBQAAWItQAQAA1iJUAACAtQgVAABgLUIFAABYi1ABAADWIlQAAIC1CBUAAGAtQgUAAFiL\n",
              "UAEAANYiVAAAgLUIFQAAYC1CBQAAWItQAQAA1iJUAACAtQgVAABgLUIFAABYi1ABAADWIlQAAIC1\n",
              "CBUAAGAtQgUAAFiLUAEAANYiVAAAgLUIFQAAYC1CBQAAWItQAQAA1iJUAACAtQgVAABgLUIFAABY\n",
              "i1ABAADWIlQAAIC1CBUAAGAtQgUAAFiLUAEAANYiVAAAgLUIFQAAYC1CBQAAWItQAQAA1iJUAACA\n",
              "tQgVAABgLUIFAABYi1ABAADWIlQAAIC1CBUAAGAtR0OltrZWOTk5SktL09ixY1VTU9NhzcaNG5Wd\n",
              "na1hw4Zp+PDhmj9/vtra2pwcCwAA9BCOhkpxcbGKioq0e/duLViwQPn5+R3WXHTRRVq9erV27dql\n",
              "d955R2+++aZWrlzp5FgAAKCHcCxUmpubVV1drby8PEnSrFmz1NjYqLq6uqB1l19+uQYPHixJ+tGP\n",
              "fqSsrCw1NDR0etyWlhb5/f6gW2trq1OnAQAAupFjodLY2Kj4+HhFRkZKklwulzwej3w+X6d/Z//+\n",
              "/VqzZo2mTZvW6ZqysjLFxMQE3bZu3Rr2+QEAQPez5mJav9+v6dOna/78+RozZkyn6xYuXKjDhw8H\n",
              "3bKzs7twUgAA0FUinTpwUlKSmpqaFAgEFBkZKWOMfD6fPB5Ph7VHjhzRlClTlJubq5KSklMe1+12\n",
              "y+12Bz0WERER1tkBAIAdHHtGZcCAARo1apRWrVolSVq7dq0SExOVmpoatO6rr77SlClTNGXKFP3p\n",
              "T39yahwAANADOfrSj9frldfrVVpamhYvXqzy8nJJUkFBgSorKyVJS5Ys0datW1VRUaGsrCxlZWXp\n",
              "wQcfdHIsAADQQzj20o8kpaenq6qqqsPjK1asaP/zokWLtGjRIifHAAAAPZQ1F9MCAAD8L0IFAABY\n",
              "i1ABAADWIlQAAIC1CBUAAGAtQgUAAFiLUAEAANYiVAAAgLUIFQAAYC1CBQAAWItQAQAA1iJUAACA\n",
              "tQgVAABgLUIFAABYi1ABAADWIlQAAIC1CBUAAGAtQgUAAFiLUAEAANYiVAAAgLUIFQAAYC1CBQAA\n",
              "WItQAQAA1iJUAACAtQgVAABgLUIFAABYi1ABAADWIlQAAIC1CBUAAGAtQgUAAFiLUAEAANYiVAAA\n",
              "gLUIFQAAYC1CBQAAWItQAQAA1iJUAACAtQgVAABgLUIFAABYi1ABAADWIlQAAIC1CBUAAGAtQgUA\n",
              "AFiLUAEAANYiVAAAgLUIFQAAYC1CBQAAWItQAQAA1iJUAACAtQgVAABgLUIFAABYi1ABAADWIlQA\n",
              "AIC1CBUAAGAtQgUAAFiLUAEAANYiVAAAgLUIFQAAYC1CBQAAWItQAQAA1iJUAACAtQgVAABgLUdD\n",
              "pba2Vjk5OUpLS9PYsWNVU1PzveueeOIJDRkyRCkpKSosLNTx48edHAsAAPQQjoZKcXGxioqKtHv3\n",
              "bi1YsED5+fkd1uzdu1d33323tmzZorq6Oh04cEDLli1zciwAANBDOBYqzc3Nqq6uVl5eniRp1qxZ\n",
              "amxsVF1dXdC6NWvWaMaMGRo4cKBcLpfmzJmjp556qtPjtrS0yO/3B91aW1udOg0AANCNIp06cGNj\n",
              "o+Lj4xUZeeKfcLlc8ng88vl8Sk1NbV/n8/k0aNCg9vvJycny+XydHresrEylpaVBjw0dOlQlJSWn\n",
              "nKe1tVVbt25Vdna2IiIiTuscZp7Wqt6jpOTV9j+fyX7i1LpiT536nj75e8MWfI+GH3safuHc0574\n",
              "3/egQYN0++23n3KNY6HilIULF3aIErfbLbfbfcq/5/f7FRMTo5deeknR0dFOjtgrsJ/hx56GF/sZ\n",
              "fuxp+LGnP8yxUElKSlJTU5MCgYAiIyNljJHP55PH4wla5/F4VF9f336/oaGhw5qTnU6UAACAc4Nj\n",
              "16gMGDBAo0aN0qpVqyRJa9euVWJiYtDLPtKJa1cqKyu1f/9+GWO0dOlSXXfddU6NBQAAehBHf+vH\n",
              "6/XK6/UqLS1NixcvVnl5uSSpoKBAlZWVkqTBgwertLRU48ePV2pqquLi4lRcXOzkWAAAoIdw9BqV\n",
              "9PR0VVVVdXh8xYoVQfcLCwtVWFjo5Chyu9265557eNkoTNjP8GNPw4v9DD/2NPzY0x/mMsaY7h4C\n",
              "AADg+/AW+gAAwFqECgAAsBahAgAArEWoAAAAa/X4UAnHJzTz6c3BznZPN27cqOzsbA0bNkzDhw/X\n",
              "/Pnz1dbW1pWnYJVwfYq4MUZXXHGFYmNju2Bqu4VjT3fs2KGJEycqIyNDGRkZqqio6KrxrXO2+9nW\n",
              "1qaSkhINGzZMI0eO1KRJkzp8rltvczp72tDQoIkTJyomJkZZWVkdvs7Ppv/P9HCTJk0y5eXlxhhj\n",
              "/v3vf5sxY8Z0WLNnzx4THx9vmpqaTFtbm5k+fbp57LHHfvBrvdXZ7un27dtNfX29McaYb7/91owf\n",
              "P779eL3R2e7ndx5++GFTUFBgYmJiumBqu53tnn799dfm0ksvNVu2bDHGGBMIBExzc3OXzW+bs93P\n",
              "Z5991mRnZ5tjx44ZY4y5//77za9//esum99Gp7Onn3/+udmyZYtZv369yczMDPoaP5v+q0eHyoED\n",
              "B0xUVJQ5fvy4McaYtrY2c8kll5ja2tqgdX/5y19McXFx+/3nn3/ejB8//ge/1huFY0//17x588w9\n",
              "99zj2Mw2C9d+7ty50/zsZz8zdXV1vT5UwrGny5cvN9dff33XDW2xcOznc889ZzIzM43f7zdtbW3m\n",
              "j3/8o/n973/fdSdhmdPd0+9s2rSpQ6jws+m/evRLP6f6hOaTneoTmkP99OZzXTj29GT79+/XmjVr\n",
              "NG3aNGcHt1Q49vP48eMqLCyU1+vlE2sVnj3dtWuX3G63pk2bpqysLN144406ePBg152ERcKxn9On\n",
              "T9fEiRM1cOBAxcfH69VXX9V9993XdSdhmdPd01PhZ9N/9ehQgd38fr+mT5+u+fPna8yYMd09To9V\n",
              "WlqqmTNnKiMjo7tHOWcEAgG98sor8nq9evfdd5WQkKC5c+d291g9VnV1tXbu3KlPP/1Un332mSZP\n",
              "nqw5c+Z091g4R/ToUDn5E5olnfITmvft29d+/+RPaD7V13qjcOypJB05ckRTpkxRbm6uSkpKumZ4\n",
              "C4VjPzdv3qxHH31UycnJmjBhgvx+v5KTk3vtMwDh+u9+0qRJSkhIkMvlUl5ent56662uOwmLhGM/\n",
              "V65c2X6hd58+fTR79mxt2rSp607CMqe7p6fCz6aTdOfrTuHwi1/8IuiCpdGjR3dYU19f3+GipEcf\n",
              "ffQHv9Zbne2eHjlyxOTk5JjS0tKuHNtaZ7ufJ9u7d2+vv0bFmLPf03379pmhQ4eaw4cPG2NOXA8w\n",
              "derULpvfNme7nw8//LCZPHmyaWlpMcYYs3jxYvPLX/6yy+a30ens6Xe+7xoVfjb9V48PlY8++siM\n",
              "GzfODBkyxIwePdp88MEHxhhjbrnlFrNu3br2dcuWLTODBw82gwcPNjfffHP71ek/9LXe6Gz39IEH\n",
              "HjCRkZEmMzOz/fbAAw90y7nYIBzfo98hVE4Ix56uXLnSDB8+3IwYMcJMmTLF+Hy+Lj8PW5ztfh49\n",
              "etQUFBSYoUOHmhEjRpgrr7yy/Tf/eqvT2dOvv/7aJCQkmP79+5u+ffuahIQEc+edd7Yfg59NJ/Ch\n",
              "hAAAwFo9+hoVAABwbiNUAACAtQgVAABgLUIFAABYi1ABAADWIlQAAIC1CBUAAGAtQgUAAFiLUAEA\n",
              "ANYiVAAAgLX+H5KbpDTteofZAAAAAElFTkSuQmCC\n",
              "\">\n",
              "      </div>\n",
              "      <script type=\"text/javascript\">\n",
              "        (() => {\n",
              "          const chartElement = document.getElementById(\"chart-5ef56f5d-5a97-49d3-98ee-5eb53727049b\");\n",
              "          async function getCodeForChartHandler(event) {\n",
              "            const chartCodeResponse =  await google.colab.kernel.invokeFunction(\n",
              "                'getCodeForChart', [\"chart-5ef56f5d-5a97-49d3-98ee-5eb53727049b\"], {});\n",
              "            const responseJson = chartCodeResponse.data['application/json'];\n",
              "            await google.colab.notebook.addCell(responseJson.code, 'code');\n",
              "          }\n",
              "          chartElement.onclick = getCodeForChartHandler;\n",
              "        })();\n",
              "      </script>\n",
              "      <style>\n",
              "        .colab-quickchart-chart-with-code  {\n",
              "            display: block;\n",
              "            float: left;\n",
              "            border: 1px solid transparent;\n",
              "        }\n",
              "\n",
              "        .colab-quickchart-chart-with-code:hover {\n",
              "            cursor: pointer;\n",
              "            border: 1px solid #aaa;\n",
              "        }\n",
              "      </style>"
            ]
          },
          "metadata": {}
        },
        {
          "output_type": "display_data",
          "data": {
            "text/plain": [
              "<google.colab._quickchart_helpers.SectionTitle at 0x7e0ce29feec0>"
            ],
            "text/html": [
              "<h4 class=\"colab-quickchart-section-title\">Values</h4>\n",
              "<style>\n",
              "  .colab-quickchart-section-title {\n",
              "      clear: both;\n",
              "  }\n",
              "</style>"
            ]
          },
          "metadata": {}
        },
        {
          "output_type": "display_data",
          "data": {
            "text/plain": [
              "from matplotlib import pyplot as plt\n",
              "_df_1['score'].plot(kind='line', figsize=(8, 4), title='score')\n",
              "plt.gca().spines[['top', 'right']].set_visible(False)"
            ],
            "text/html": [
              "      <div class=\"colab-quickchart-chart-with-code\" id=\"chart-b29f0acd-7537-44c5-8940-4377ea715d3f\">\n",
              "        <img style=\"width: 180px;\" src=\"data:image/png;base64,iVBORw0KGgoAAAANSUhEUgAAAq0AAAF6CAYAAAAzj2GhAAAAOXRFWHRTb2Z0d2FyZQBNYXRwbG90\n",
              "bGliIHZlcnNpb24zLjcuMSwgaHR0cHM6Ly9tYXRwbG90bGliLm9yZy/bCgiHAAAACXBIWXMAAA9h\n",
              "AAAPYQGoP6dpAABQM0lEQVR4nO3deVxU9f7H8dewurC4gSAKyOYOaC7lUrZbKppmUtdu1tW05WrZ\n",
              "YnazsrrZamrL1X55vbfrTSyXXFLbF1PLTAHBFQVB2RRkEWSZmfP7g+JebqaiwMzA+/l4zB/DnJn5\n",
              "nE4Db898Pt9jMgzDQERERETEjjnZugARERERkfNRaBURERERu6fQKiIiIiJ2T6FVREREROyeQquI\n",
              "iIiI2D2FVhERERGxewqtIiIiImL3FFpFRERExO4ptIqIiIiI3VNoFRERERG7p9AqIiIiInZPoVVE\n",
              "xAFYLBasVqutyxARsRmFVhGRS/TWW28RGhqKp6cn7du3Z+LEiQDk5+dz//3307lzZzw9PenatSuf\n",
              "fvopUBVCX331VSIiIvD29qZv375s2rSp+jW/+eYbTCYTcXFxRERE0KJFC3JzcykoKOC+++4jKCiI\n",
              "tm3bcvPNN3PkyBFb7LaISINSaBURuQSHDh3i8ccfZ+3atRQXF3P48GHuueceDMNg9OjRpKWl8e23\n",
              "31JUVMTGjRvp1KkTAPPnz2fBggXExcWRl5fHo48+yqhRo9i1a1eN11+xYgXbt2+nqKgIHx8fbrnl\n",
              "FoqKiti9ezeZmZn06tWLESNGUFlZaYvdFxFpMCbDMAxbFyEi4qhSU1Pp3r07//jHP7jpppvw8vIC\n",
              "YOfOnfTv35+cnBx8fHx+87wuXbpw//33M3369OqfjRo1Cn9/fxYtWsQ333zD1Vdfzf79++nSpQsA\n",
              "u3bt4vLLLyc/Px8PDw+g6oyth4cHn3/+OYMHD26APRYRsQ2daRURuQSdO3cmLi6OpUuXEhgYSL9+\n",
              "/Vi+fDmpqam0bt36rIEVICMjg9DQ0Bo/CwsLIz09/Tev/6tDhw5hNpvp2LEjrVq1olWrVrRt27b6\n",
              "9UREGjMXWxcgIuLoRo0axahRozCbzaxevZrY2Fi2b9/OqVOnOHnyJO3atfvNczp16sThw4dr/Ozw\n",
              "4cMEBgbW+JmT03/OLfj5+eHm5saJEydwdXWtn50REbFTOtMqInIJDhw4wMaNGzl9+jQuLi54e3sD\n",
              "0K5dOwYOHMjdd9/NsWPHgKpWgn379gEwadIkXnvtNeLj4zGbzXz44Yds3LiRSZMm/e57DR48mJ49\n",
              "e3LfffeRm5sLwKlTp1i1ahWlpaX1vKciIral0CoicgkqKir461//SkBAAF5eXjzyyCO8//77hIaG\n",
              "snbtWvz9/bniiivw9PTk5ptvrv4af8aMGTzwwAPceuuttGnThpdffpnVq1fTt2/f330vZ2dnPv/8\n",
              "c1q0aMGAAQPw9PQkKiqKNWvWYDKZGmqXRURsQoNYIiIiImL3dKZVREREROyeQquIiIiI2D2FVhER\n",
              "ERGxewqtIiIiImL3FFpFRERExO4ptIqIiIiI3VNoFRERERG753ChdcGCBbYuQUREREQamMOF1qNH\n",
              "j9q6BBERERFpYA4XWkVERESk6VFoFRERERG7p9AqIiIiInZPoVVERERE7J5Cq4iIiIjYPYVWERER\n",
              "EbF7Cq0iIiIiYvcUWkVERETE7im0ioiIiIjdU2gVEREREbun0CoiIiLSiFmtBjvT8m1dxiVTaBUR\n",
              "ERFppHKKyvjj33dw2+Lt7Eh17ODqYusCRERERKTufZqczROrEjlVWkkzVyeyCs/YuqRLotAqIiIi\n",
              "0oiUVph5fsM+lu9IB6BngBfzx/cmzNfDxpVdGoVWERERkUYi6Xgh0+J2c+RECSYT3HtlCI9c3wU3\n",
              "F8fvCFVoFREREXFwVqvB/205wmufHaDSYuDn1Yx5t0UxMKydrUurMwqtIiIiIg4sq/AMj3yYwLbD\n",
              "eQAM6+HH3DG9aN3SzcaV1S2FVhEREREHtTkpi5mr9lB4ppLmrs48G9Od2/p2wmQy2bq0OqfQKiIi\n",
              "IuJgSsrNPLd+Lyt2ZgAQ2dGb+eOjCfFx7GGrc1FoFREREXEgiccKmB4XT+rJqmGrqVeF8vB1EY1i\n",
              "2OpcFFpFREREHIDFarD4u8PM++wgZquBv3cz5t0WzRWhbW1dWoNQaBURERGxc5kFZ5jxYTw/HKm6\n",
              "qtXwXv68eEsvvFu42riyhqPQKiIiImLHPknM4sk1VcNWLdycmRPTg1sv69goh63ORaFVRERExA6d\n",
              "LjczZ10yH/18DICoTq1YMD6a4HYtbVyZbSi0ioiIiNiZ+IwCpsft5mheKSYTPDA0jOnXhePq3LiH\n",
              "rc5FoVVERETETlisBn/7JoU3vjiExWoQ0Ko5826LYkBI0xi2OheFVhERERE7cLzgDA/HxbMjrWrY\n",
              "akSkP3+9pRfezZvOsNW5KLSKiIiI2Nj6hEyeXLOH4jIzLd2ceW5UT8b0CWhyw1bnotAqIiIiYiOn\n",
              "y808vTaJ1buOA9A7sBXzx0cT1LZpDludi0KriIiIiA3sSj/FQ3HxpOeX4mSCB68JZ9o1Ybg04WGr\n",
              "c1FoFREREWlAZouVt78+zMKv/jNstSA2mr7BbWxdml1TaBURERFpIBn5pTy8Ip6dR08BMCq6A8+P\n",
              "7olXMw1bnY9Cq4iIiEgDWBt/nKfWJFFcbsbD3YUXRvdkdO8AW5flMBRaRUREROpRUVklz6xNZs3u\n",
              "qmGry4JaM398NJ3atLBxZY6l1p2+hw4dYuDAgURERNCvXz+Sk5N/s01aWhpDhw7F29ub6Ojo3zy+\n",
              "ZMkSwsPDCQ0NZfLkyVRWVl5U8SIiIiL27Oej+dy8YAtrdh/HyQQPXRfOinsvV2C9CLUOrVOmTOHe\n",
              "e+/l4MGDzJw5k4kTJ/5mGy8vL1544QU++OCD3zyWmprK7Nmz2bJlCykpKeTk5PDuu+9eVPEiIiIi\n",
              "9shssfLG5wcZt2g7x06doVOb5nw09Qoeui5CqwNcpFr9V8vNzWXnzp1MmDABgLFjx5KRkUFKSkqN\n",
              "7dq0acPgwYNp2fK3a4ytXLmSmJgY/Pz8MJlMTJ06leXLl5/1/crLyykqKqpxs1gstSlZREREpEGl\n",
              "55Vy2+LtLPjyEFYDxvQOYOO0IVwWpNUBLkWtQmtGRgb+/v64uFS1wppMJgIDA0lPT7/g10hPTyco\n",
              "KKj6fnBw8O8+f+7cuXh7e9e47dixozYli4iIiDQIwzBYvesYNy/cwq70AjybubAgNpp546Px1OoA\n",
              "l8yuz0/PmjWLwsLCGrf+/fvbuiwRERGRGgrPVDI9Lp4ZHyZwutxMv+DWbJo+hFHRWh2grtRq9YBO\n",
              "nTqRlZWF2WzGxcUFwzBIT08nMDDwgl8jMDCQw4cPV99PS0v73ee7u7vj7u5e42fOzs61KVlERESk\n",
              "Xv2Uls9DcfEcLziDs5OJh64N5/6rw3B2Mtm6tEalVmdafX196dOnD8uWLQNg1apVdOzYkbCwsAt+\n",
              "jbFjx7Ju3Tqys7MxDINFixYRGxtbu6pFREREbKzSYuX1zw4wfvF2jhecIbBNC1ZOvYI/XxuuwFoP\n",
              "ar1O6+LFi5k4cSIvvvgiXl5eLF26FIBJkyYRExNDTEwMpaWlREREUF5eTmFhIR07duTOO+9k7ty5\n",
              "hISEMGfOHAYNGgTA0KFDmTJlSt3ulYiIiEg9OppXwvS4eOIzCgC49bKOPBvTAw93LYFfX0yGYRi2\n",
              "LqI2ZsyYwbx582xdhoiIiDRBhmGwatdxnlmbREmFBa9mLrw4phcjIjvYurRGT/8cEBEREbkAhaWV\n",
              "/OXjPWxIzAKgf+c2vDE+moBWzW1cWdOg0CoiIiJyHj8cyWPGingyC8twcTLx8PURTL0qVL2rDUih\n",
              "VUREROR3VFqszP/iIO98cxjDgOC2LVgQ25uoTq1sXVqTo9AqIiIichapJ0t4KG43CccKAbitb0ee\n",
              "GdmDlhq2sgn9VxcRERH5L4Zh8NHOYzy7PpnSCgvezV2ZO6YXN/fyt3VpTZpCq4iIiMgvCkoreHLN\n",
              "HjbuyQbgipC2zBsfhb+3hq1sTaFVREREBNh+OI8ZH8aT9cuw1aM3dmHykBANW9kJhVYRERFp0irM\n",
              "VuZ9fpDF31UNW4W0a8mC2N706uht69Lkvyi0ioiISJN1+MRpHoqLZ8/xqmGr2/t3YvaI7rRwU0Sy\n",
              "NzoiIiIi0uQYhkHcTxk8t34vZyottGrhyktjIhnW08/WpcnvUGgVERGRJuVUSQVPrE7k0+QcAAaF\n",
              "teX1cdH4eTezcWVyLgqtIiIi0mRsTTnJjA/jySkqx9XZxGM3dmHS4BCcNGxl9xRaRUREpNGrMFt5\n",
              "/bMDvLvlCIYBoT5Vw1Y9AzRs5SgUWkVERKRRS8k9zfS43SRnFgHwhwGBPDW8O83dnG1cmdSGQquI\n",
              "iIg0SoZh8MGOdJ7fsJeySiutW7jy8thIbuihYStHpNAqIiIijU5+SQUzVyXy+d6qYash4e14fVwU\n",
              "vl4atnJUCq0iIiLSqGw5dIIZHyZworgcN2cnHh/WhXsGddawlYNTaBUREZFGodxs4dXNB3jv+1QA\n",
              "wnw9WBAbTY8OGrZqDBRaRURExOEdyilmWlw8+7Kqhq3uvDyIJ2/upmGrRkShVURERByWYRgs++Eo\n",
              "L3yyj3KzlbYt3Xjl1kiu7dbe1qVJHVNoFREREYeUd7qcmasS+WJfLgBXRfjw6rhIfD01bNUYKbSK\n",
              "iIiIw/nmQC6PfpTIydPluLk4Meumrtx1RbCGrRoxhVYRERFxGGWVFl7evJ+lW9MAiGjvwcLbe9PV\n",
              "z8u2hUm9U2gVERERh3Agu5jpcbvZn10MwMSBwTxxU1eauWrYqilQaBURERG7ZhgG728/yl837qPC\n",
              "bKWdhxuv3hrF1V19bV2aNCCFVhEREbFbJ4rLeXxlAl8fOAHA1V18eOXWKHw83W1cmTQ0hVYRERGx\n",
              "S1/vz+WxlQmcPF2Bm4sTf7m5G3+8IgiTScNWTZFCq4iIiNiVskoLL23azz+2pQHQ1c+Thbf3JqK9\n",
              "p20LE5tSaBURERG7sT+7iOnL4zmQUzVsdc+gzjw+rIuGrUShVURERGzPajX4x7Y0Xtq8/5dhK3de\n",
              "GxfJ0C4atpIqCq0iIiJiU7nFZTz6USLfHawatrq2qy+v3BpJWw8NW8l/KLSKiIiIzXy5L4fHViaS\n",
              "X1KBu4sTT43ozoQBgRq2kt9QaBUREZEGd6bCwosb9/GvH44C0M3fi4Wx0YRr2Ep+h0KriIiINKi9\n",
              "mUVMi9tNSu5pACYP6cyjN3bB3UXDVvL7FFpFRESkQVitBn/fmsormw9QYbHi6+nO67dFMSTcx9al\n",
              "iQNQaBUREZF6l1NUxqMfJbDl0EkAru/enpfHRtKmpZuNKxNHodAqIiIi9eqz5GxmrkrkVGklzVyd\n",
              "eHpED27v30nDVlIrCq0iIiJSL85UWHj+k7188GM6AD06eLEgtjdhvh42rkwckUKriIiI1Lmk44VM\n",
              "i9vNkRMlAEy5MoQZN0Ro2EoumkKriIiI1Bmr1eC974/w6qcHqLQYtPdyZ95t0QwKa2fr0sTBKbSK\n",
              "iIhIncguLOORj+LZmpIHwI092vPSmEhaa9hK6oBCq4iIiFyyzUnZPLE6kYLSSpq7OvPMyO6M76dh\n",
              "K6k7Cq0iIiJy0UorzDy/YS/Ld2QA0CvAmwWx0YT4aNhK6pZTbZ9w6NAhBg4cSEREBP369SM5Ofms\n",
              "2y1ZsoTw8HBCQ0OZPHkylZWVAFitVmbMmEH37t2JjIzk6quvJiUl5dL2QkRERBpc4rECRiz8nuU7\n",
              "MjCZ4L6hoay6b6ACq9SLWofWKVOmcO+993Lw4EFmzpzJxIkTf7NNamoqs2fPZsuWLaSkpJCTk8O7\n",
              "774LwLp169i6dSsJCQkkJiZy7bXX8uSTT17yjoiIiEjDsFgN/vbNYca8s40jJ0vw82rGvycNYOaw\n",
              "rri51DpaiFyQWv2flZuby86dO5kwYQIAY8eOJSMj4zdnSleuXElMTAx+fn6YTCamTp3K8uXLATCZ\n",
              "TJSXl1NWVoZhGBQVFdGxY8c62h0RERGpT1mFZ/jDez/w8ub9mK0GN/fyY/NDQxgYqtUBpH7Vqqc1\n",
              "IyMDf39/XFyqnmYymQgMDCQ9PZ2wsLDq7dLT0wkKCqq+HxwcTHp61cLCI0eO5Ouvv8bPzw9PT08C\n",
              "AgL49ttvz/p+5eXllJeX1/iZxWKpTckiIiJSRzbtyeKJ1XsoPFNJCzdnno3pwbjLOmrYShpEg5/D\n",
              "37lzJ0lJSRw/fpzMzEyuvfZapk6detZt586di7e3d43bjh07GrhiERGRpq2k3MzjKxO479+7KDxT\n",
              "SVRHbzZOG8JtfbU6gDScWoXWTp06kZWVhdlsBsAwDNLT0wkMDKyxXWBgIEePHq2+n5aWVr3N+++/\n",
              "zzXXXEOrVq1wcnLirrvu4uuvvz7r+82aNYvCwsIat/79+9dqB0VEROTiJWQUMHzhFj7ceQyTCR68\n",
              "OoyV9w0kuF1LW5cmTUytQquvry99+vRh2bJlAKxatYqOHTvWaA2Aql7XdevWkZ2djWEYLFq0iNjY\n",
              "WABCQkL46quvqKioAGDDhg307NnzrO/n7u6Ol5dXjZuzsy7/JiIiUt8sVoO3v05h7N+2kZZXSgfv\n",
              "ZsRNvpxHb+yCq7OGraTh1Xqd1sWLFzNx4kRefPFFvLy8WLp0KQCTJk0iJiaGmJgYQkJCmDNnDoMG\n",
              "DQJg6NChTJkyBYAHHniAffv2ERUVhaurK35+fixatKgOd0lEREQuxfGCMzy8Ip4dqfkADI/058XR\n",
              "vfBu4WrjyqQpMxmGYdi6iNqYMWMG8+bNs3UZIiIijdKGxEyeXL2HojIzLd2cmTOqJ2P7BKh3VWxO\n",
              "V8QSERERTpebeWZtMqt2HQMgulMrFsRGE9RWvatiHxRaRUREmrjd6aeYHhdPen4pTr8MW/352nD1\n",
              "ropdUWgVERFpoixWg3e+TmH+l4ewWA0CWjVnfmw0/YLb2Lo0kd9QaBUREWmCjp0q5eEV8fyUdgqA\n",
              "mKgOPD+6J97NNWwl9kmhVUREpIlZG3+cpz5OorjMjIe7C8+P7sEtvXVJdbFvCq0iIiJNRHFZJU+v\n",
              "TWbN7uMA9AlsxYLY3nRq08LGlYmcn0KriIhIE/Dz0XweWhFPRv4ZnEww7dpwHrw6DBcNW4mDUGgV\n",
              "ERFpxMwWK299ncKbX6VgsRp0bN2cBbHRXBakYStxLAqtIiIijVRGfikPrYjn56NVw1Zjegfw7Kge\n",
              "eDXTsJU4HoVWERGRRujj3ceZ/XESxeVmPN1deOGWnoyKDrB1WSIXTaFVRESkESkqq2T2x0msjc8E\n",
              "oF9wa+bdFq1hK3F4Cq0iIiKNxE9p+TwUF8/xgjM4O5mYfm049w8N1bCVNAoKrSIiIg7ObLGy8MtD\n",
              "vPV1ClYDAtu0YH5sNH0CW9u6NJE6o9AqIiLiwI7mlfDQinh2pxcAMLZPR56N6Y6nhq2kkVFoFRER\n",
              "cUCGYbB613GeXptESYUFz2YuvHhLL0ZGdbB1aSL1QqFVRETEwRSeqeQva/awITELgP6d2/DG+GgC\n",
              "WjW3cWUi9UehVURExIH8eCSPGR8mcLzgDC5OJh6+PoKpV4Xi7GSydWki9UqhVURExAFUWqws+OIQ\n",
              "73xTNWwV3LYF82N7E92pla1LE2kQCq0iIiJ2Lu1kCdNXxJOQUQDAbX078szIHrR0159xaTr0f7uI\n",
              "iIidMgyDj34+xrPrkimtsODVzIW5YyIZHulv69JEGpxCq4iIiB0qLK3kyTV7+GRP1bDV5SFtmHdb\n",
              "NB00bCVNlEKriIiIndl+OI8ZH8aTVViGi5OJGTdEMOVKDVtJ06bQKiIiYicqzFbe+OIgi749jGFA\n",
              "53YtWRAbTWTHVrYuTcTmFFpFRETswJETp3loRTyJxwoBiO3XiadHdqeFm/5Ui4BCq4iIiE0ZhsGH\n",
              "OzN4dt1ezlRaaNXClZfG9GJYTw1bifw3hVYREREbOVVSwazVe9icnA3AwNC2zLstGj/vZjauTMT+\n",
              "KLSKiIjYwLaUk8z4MIHsojJcnU08ekMXJg8JwUnDViJnpdAqIiLSgCrMVl7/7ADvbjmCYUCIT0sW\n",
              "xvamZ4C3rUsTsWsKrSIiIg0kJfc0D63YTdLxIgDuGBDIU8O7adhK5ALoUyIiIlLPDMNg+Y4MntuQ\n",
              "TFmlldYtXHl5bCQ39PCzdWkiDkOhVUREpB7ll1TwxKpEPtubA8CQ8Ha8Ni6K9l4athKpDYVWERGR\n",
              "erLl0Ake+TCB3OJy3JydeHxYF+4Z1FnDViIXQaFVRESkjpWbLby6+QDvfZ8KQJivBwtio+nRQcNW\n",
              "IhdLoVVERKQOpeQWM215PHuzqoatJlweyF9u7k5zN2cbVybi2BRaRURE6oBhGCz7MZ0XNuyl3Gyl\n",
              "TUs3XhkbyXXd29u6NJFGQaFVRETkEuWdLmfmqkS+2JcLwJURPrw2LhJfTw1bidQVhVYREZFL8N3B\n",
              "EzzyUQInfhm2euKmrkwcGKxhK5E6ptAqIiJyEcoqLbyy+QB/31o1bBXR3oMFsb3p5u9l48pEGieF\n",
              "VhERkVo6mFPMtOW72Z9dDMBdVwQx6+ZuNHPVsJVIfVFoFRERuUCGYfD+9qO8uHEf5WYr7TzcePXW\n",
              "KK7u6mvr0kQaPYVWERGRC3DydDmPfZTA1wdOADC0iw+v3hqFj6e7jSsTaRoUWkVERM7j6wO5PPZR\n",
              "AidPV+Dm4sSTN3XlroHBmEwathJpKAqtIiIiv6Os0sJLm/bzj21pAHT182RBbG+6+HnatjCRJkih\n",
              "VURE5Cz2ZxcxfXk8B3Kqhq3uHhTMzGFdNWwlYiNOtX3CoUOHGDhwIBEREfTr14/k5OSzbrdkyRLC\n",
              "w8MJDQ1l8uTJVFZWVj+2Z88ehg4dSrdu3ejWrRurV6+++D0QERGpQ4ZhsHRrKjFvbeVATjHtPNz5\n",
              "x939eGZkDwVWERuqdWidMmUK9957LwcPHmTmzJlMnDjxN9ukpqYye/ZstmzZQkpKCjk5Obz77rsA\n",
              "lJaWMmrUKF544QX27dtHUlISQ4YMueQdERERuVS5xWVMXPoTc9bvpcJs5dquvmx+aAhDu2h1ABFb\n",
              "q1Vozc3NZefOnUyYMAGAsWPHkpGRQUpKSo3tVq5cSUxMDH5+fphMJqZOncry5csB+OCDD7j88ssZ\n",
              "PHgwAM7Ozvj4+Jz1/crLyykqKqpxs1gstd5JERGR8/lyXw43zd/CtwdP4O7ixPOjevDeXX1p56HV\n",
              "AUTsQa1Ca0ZGBv7+/ri4VLXCmkwmAgMDSU9Pr7Fdeno6QUFB1feDg4Ort9m7dy/u7u6MGDGC6Oho\n",
              "/vjHP3LixImzvt/cuXPx9vaucduxY0etdlBERORcyiotPL02iT/9cyd5JRV09fNk/Z8Hc+cVWh1A\n",
              "xJ7Uuj3gUpnNZr744gsWL17M7t27CQgI4L777jvrtrNmzaKwsLDGrX///g1csYiINFZ7M4sY+eb3\n",
              "vL/9KAB/GtyZtQ8OIqK9VgcQsTe1Wj2gU6dOZGVlYTabcXFxwTAM0tPTCQwMrLFdYGAghw8frr6f\n",
              "lpZWvU1gYCBXX301AQEBAEyYMIEbb7zxrO/n7u6Ou3vNr2WcndUELyIil8ZqNfj71lRe2XyACosV\n",
              "H093Xh8XxZURZ29XExHbq9WZVl9fX/r06cOyZcsAWLVqFR07diQsLKzGdmPHjmXdunVkZ2djGAaL\n",
              "Fi0iNjYWgNtuu42ffvqJoqIiADZu3EhUVFRd7IuIiMh55RaVcdfSHbzwyT4qLFau69aeTx+6UoFV\n",
              "xM7Vep3WxYsXM3HiRF588UW8vLxYunQpAJMmTSImJoaYmBhCQkKYM2cOgwYNAmDo0KFMmTIFqDrT\n",
              "+uSTTzJw4ECcnJwICAioXllARESkPn2+N4eZqxLJL6mgmasTs0d0547+gepdFXEAJsMwDFsXURsz\n",
              "Zsxg3rx5ti5DREQcyJkKCy98spd//1g1FNzd34uFt0cT5qveVRFHoStiiYhIo5Z0vJDpcbs5fKIE\n",
              "gHuvDOGRGyJwd9GMhIgjUWgVEZFGyWo1eO/7I7z66QEqLQbtvdx5fVw0g8Pb2bo0EbkICq0iItLo\n",
              "5BSV8ciHCXyfchKAG7q35+WxkbRu6WbjykTkYim0iohIo/JpcjYzVyVSUFpJc1dnnh7Zndh+nTRs\n",
              "JeLgFFpFRKRRKK0w8/yGfSzfUTVs1SvAm/mx0YT6eNi4MhGpCwqtIiLi8JKOFzItbjdHTpRgMsGU\n",
              "K0OZcX0Ebi4NfuFHEaknCq0iIuKwrFaDd7cc4fXPqoat/LyaMW98FANDNWwl0tgotIqIiEPKKjzD\n",
              "jBUJbD+SB8BNPf2YO6YXrVpo2EqkMVJoFRERh7NpTxZPrN5D4ZlKWrg58+zIHozr21HDViKNmEKr\n",
              "iIg4jJJyM8+t38uKnRkARHb0ZkFsbzq3a2njykSkvim0ioiIQ0jIKOChFfGknqwatrp/aCgPXReB\n",
              "q7OGrUSaAoVWERGxaxarwaJvD/PG5wcxWw06eDdj3vhoLg9pa+vSRKQBKbSKiIjdyiw4w8Mr4vkx\n",
              "NR+A4ZH+vDi6F94tXG1cmYg0NIVWERGxS58kZjFrdSJFZWZaujkzZ1RPxvYJ0LCVSBOl0CoiInbl\n",
              "dLmZZ9cls/LnYwBEdWrFgvHRBGvYSqRJU2gVERG7sTv9FA+tiOdoXilOJnjg6jCmXRuuYSsRUWgV\n",
              "ERHbs1gN/vZNCm98cQiL1SCgVXPeGB9N/85tbF2aiNgJhVaR89i0J4sXPtnHbX07Mf26cFuXI9Lo\n",
              "HDtVyowVCexIqxq2GhnVgRdG98S7uYatROQ/FFpFfke52cKLn+zjn9uPAvB/W44w5aoQmrk627gy\n",
              "kcZjXUImf1mzh+IyMx7uLjw/ugejozVsJSK/pdAqchZpJ0t4cPkuko4XAdDc1ZnT5Wa+OXCCYT39\n",
              "bFydiOMrLqvkmXXJrN51HIA+ga2YP743gW1b2LgyEbFX6mwX+R8bEjMZ8eb3JB0vonULV5be3Y87\n",
              "rwgCYH1ipo2rE3F8Px89xfCF37N613GcTDD92nA+nHKFAquInJPOtIr8oqzSwguf7GXZD+kA9Atu\n",
              "zcLbe+Pv3Zx2Ld1597sjfLkvh5JyMy3d9dERqS2zxcrbXx9m4VdVw1YdWzdn/vho+gZr2EpEzk9/\n",
              "eUWA1JMlPPDvXezNqmoHeODqUB6+LgKXX5bZ6RngRXDbFqTllfLFvhxGRQfYslwRh5ORX8rDK+LZ\n",
              "efQUAKOjO/Dc6J54NdOwlYhcGLUHSJO3LiGTEQu3sDeriDYt3fjnPf157Mau1YEVwGQyERPVAYD1\n",
              "CWoREKmNj3cf5+YFW9h59BSe7i7MHx/N/NjeCqwiUis60ypNVlmlhTnr97J8R1U7QP/ObVgY2xs/\n",
              "72Zn3X5kVAcWfpXCtwdPUFhaqWufi5xHUVklT3+cxMfxVf/Q6xvUmjfGR9OpjXpXRaT2FFqlSTp8\n",
              "4jQP/HsX+7OLMZngwavDmH5teI2zq/8rvL0nXf082Z9dzKfJ2dzWr1MDViziWHam5fPQiniOnTqD\n",
              "s5OJ6deGc//Q0HN+xkREzkWhVZqcj3cf58k1eyitsNDOw403xkczJNzngp47MqoD+7MPsD4xU6FV\n",
              "5CzMFitvfpXCm18dwmpApzbNmT++N5cFtbZ1aSLi4BRapckoq7Tw7Lpk4n7KAODykKp2AF+vs7cD\n",
              "nM2ISH9e/fQAW1NOcvJ0Oe083OurXBGHk55XykMrdrMrvQCAMX0CmBPTA0/1ropIHVBolSYhJbeq\n",
              "HeBATlU7wLRrwpl2bTjOTrW76k5Q25ZEdfQm4VghG/dk8ccrguunYBEHYhgGa3Yf5+m1yZwuN+PZ\n",
              "zIW/3tKrenhRRKQuKLRKo7d61zGe+jjpl3YAdxbERjMorN1Fv97IqA4kHCtkfUKmQqs0eYVnKnnq\n",
              "46TqVTX6B7dh3vgoOrbWsJWI1C2FVmm0zlRYeHptEh/9fAyAgaFtmR8bja/nhbcDnM2IyA78deM+\n",
              "fko7RWbBGTq0al4X5Yo4nB2p+Ty8Ip7jBVXDVg9fF859Q8Nq/Q2GiMiFUGiVRulQTjEPfLCLgzmn\n",
              "f7lMZAQPXlM3f0z9vJvRL7gNO1Lz+SQxi8lXhtRBxSKOo9JiZeGXh3j76xSsBgS1bcGC2N5Ed2pl\n",
              "69JEpBFTaJVGZ+XPx5j9cRJnKi34eFa1AwwMvfh2gLMZGdWBHan5rE/MVGiVJuVoXgnT4+KJzygA\n",
              "YNxlHXkmpgceurSxiNQz/ZaRRqO0wszsj5NZtauqHWBIeDvm3RaNj2fdT/jf1NOPZ9clk3iskLST\n",
              "JQS3a1nn7yFiTwzDYOXPx3h2XTIlFRa8mrkwd0wkwyP9bV2aiDQRCq3SKBzMKeb+f+8iJbeqHWDG\n",
              "9RHcPzQMp3rqrWvn4c7A0LZsOXSS9QmZ/Pna8Hp5HxF7UFhayZMf7+GTxCwABnRuwxvjo9XPLSIN\n",
              "SqFVHJphGHy08xhPr0uirNKKr6c7C2/vzeUhbev9vUdGdagKrYkKrdJ4/XAkj4dXxJNVWIaLk4kZ\n",
              "N0Qw5cpQDVuJSINTaBWHVVJuZvbHSazefRyoagd4Y3x0gy34f2MPP55ak8TBnNMcyC6mi59ng7yv\n",
              "SEOotFh54/OD/O3bwxgGdG7Xkvnjo4nSsJWI2IhCqzik/dlFPPDvXRw+UYKTCR65oQv3XRVab+0A\n",
              "Z+Pd3JWruvjw+d4c1idk0sWvS4O9t0h9Sj1ZwvS43SQeKwQgtl8nZo/oTksNW4mIDek3kDgUwzBY\n",
              "8VMGz6xLptxsxc+rGQtv703/zm1sUs/IqA5VoTUxk0duiMBk0lem4rh+bbd5dn0ypRUWvJu78tKY\n",
              "XtzUS8NWImJ7Cq3iME6Xm/nLmj2sja+68s7QLj7Muy2aNi3dbFbTdd18ae7qzNG8UvYcLySyYyub\n",
              "1SJyKQpKK5i1eg+bkrKBqotxvH5bFP7eGrYSEfug0CoOYW9mEQ9+sIsjJ0twdjLx6A1dmHJlSIO2\n",
              "A5xNCzcXru3my4bELNYnZCq0ikPadvgkM1YkkF1Uhqtz1edr8hDbf75ERP6bk60LEDkXwzD44Md0\n",
              "Rr+zlSMnS/D3bsaKey/nvqEN2796LiOjOgCwITELq9WwcTUiF67CbOWlTfv5w3s/kl1URki7lqy+\n",
              "bxBTGrg/XETkQuhMq9it4rJKnlyTxPqEqnaAa7r68vq4KFrbsB3gbK6K8MHT3YWswjJ2Hj1ls/5a\n",
              "kdo4fOI00+N2k3S8CIDb+wcye0Q3Wrjpz4KI2Kdan2k9dOgQAwcOJCIign79+pGcnHzW7ZYsWUJ4\n",
              "eDihoaFMnjyZysrKGo8bhsE111xDq1atLqpwadySjhcy8s3vWZ+QiYuTiSdv7sp7f+xrd4EVoJmr\n",
              "Mzf29AOoDtgi9sowDJbvSGfEwu9JOl5EqxauLJpwGXPH9FJgFRG7VuvQOmXKFO69914OHjzIzJkz\n",
              "mThx4m+2SU1NZfbs2WzZsoWUlBRycnJ49913a2zzxhtvEBoaetGFS+NkGAb/+uEoY/62jbS8Ujp4\n",
              "N2PFlCu490r7/rry1xaBjXuyMFusNq5G5OxOlVQwddnPzFq9hzOVFgaHtePTh65k2C//6BIRsWe1\n",
              "Cq25ubns3LmTCRMmADB27FgyMjJISUmpsd3KlSuJiYnBz88Pk8nE1KlTWb58efXjycnJfPzxxzzx\n",
              "xBN1sAvSWBSVVfLg8t3M/jiJCrOV67r5snH6EC4Lam3r0s5rYGhb2rR0I6+kgu1H8mxdjshvfH/o\n",
              "JMMWfMenyTm4Opv4y83deP+e/rT3ambr0kRELkitvgvKyMjA398fF5eqp5lMJgIDA0lPTycsLKx6\n",
              "u/T0dIKCgqrvBwcHk56eDkBlZSWTJ09myZIlODs7n/P9ysvLKS8vr/Ezi8VSm5LFQSQdL+SBD3Zx\n",
              "NK8UFycTT9zUlT8N7uww6566OjtxU08//v1jOusTMhkS7mPrkkQAKDdbeP2zg7z73REAQn1asvD2\n",
              "3vTo4G3jykREaqfBVw+YM2cOY8aMoVu3bufddu7cuXh7e9e47dixowGqlIZiGAb/3JbGmHe2cTSv\n",
              "lIBWzflo6hVMGhLiMIH1V7+2CGxKyqbcrH9cie2l5J5mzDvbqgPrhMsD2fDnIQqsIuKQahVaO3Xq\n",
              "RFZWFmazGagKHOnp6QQGBtbYLjAwkKNHj1bfT0tLq97m22+/5c033yQ4OJjBgwdTVFREcHAwJ06c\n",
              "+M37zZo1i8LCwhq3/v3713onxT4VlVVy/7938cy6ZCosVq7v3p6N04bQO9D+2wHOpl9wG9p7uVNc\n",
              "Zua7gydtXY40YYZhsOyHo4x4cwvJmUW0aenG//2xLy+M7kVzt3N/wyUiYq9qFVp9fX3p06cPy5Yt\n",
              "A2DVqlV07NixRmsAVPW6rlu3juzsbAzDYNGiRcTGxgKwZcsWjh49SlpaGt9//z1eXl6kpaXh4/Pb\n",
              "r1Pd3d3x8vKqcTtfS4E4hsRjBQxfuIVNSdm4Opt4ekR33r3zMrxbuNq6tIvm7GRieK+qs61aRUBs\n",
              "Je90OZPf/5mnPk6irNLKkPB2bJ4+hOu7t7d1aSIil6TW7QGLFy9m8eLFRERE8NJLL7F06VIAJk2a\n",
              "xLp16wAICQlhzpw5DBo0iLCwMHx8fJgyZUrdVi4OyTAMlm5NZezftpGRf4aOrZuzcupA7nGg/tVz\n",
              "iYmuCq2f782htMJs42qkqfnu4AmGLdjCF/tycHN2YvaI7vzz7v74athKRBoBk2EYDnUJnxkzZjBv\n",
              "3jxblyEXofBMJY+vTODT5BwAhvXw4+VbI/Fu7rhnV/+XYRhc+erXZOSf4a07ejMisoOtS5ImoNxs\n",
              "4ZXNB1jyfSoA4b4eLIjtTfcOXjauTESk7mglaWkQ8RkFPPjBLo6dOlO93M5dA4MbxdnV/2YymRgZ\n",
              "2YF3vjnM+oRMhVapd4dyivnz8t3szy4G4K4rgph1czeauaqVSkQaF4VWqVeGYfD3rWm8tGkflRaD\n",
              "wDYteOuO3kR2bGXr0urNyKiq0Pr1gRMUlVXi1azxnEkW+/HrsNULn+yj3GylbUs3Xh0XyTVd1bsq\n",
              "Io2TQqvUm4LSCh5bmcjne6vaAW7u5cdLYyMbfYjr6udJmK8HKbmn+Sw5h1sv62jrkqSROXm6nJkr\n",
              "E/lyfy4AQ7v48OqtUfh4utu4MhGR+tPg67RK07Ar/RTDF37P53urBkKeG9WDt+/o0+gDK/ynRQC0\n",
              "ioDUvW8O5DJs/ha+3J+Lm4sTz4zsztKJ/RRYRaTR05lWqVOGYfDellRe3rwfs9UgqG0L3r6jDz0D\n",
              "mtZi5iOj/Hnji4N8n3KS/JIK2rR0s3VJ4uDKKi28tGk//9iWBkCX9p4suD2arn4athKRpkGhVerM\n",
              "qZIKHv0oofory+GR/rw0pheeTeDs6v8K8fGgZ4AXSceL2JSUxR8GBJ3/SSK/40B2MdOW7+ZATtWw\n",
              "1cSBwTxxU1cNW4lIk6LQKnXi56On+PMHu8gsLMPNxYmnR3TnDwMCG93qALUxMrIDSceLWJ+QqdAq\n",
              "F+XXyxy/uGk/FWYr7TzceXVcJFd38bV1aSIiDU6hVS6J1Wrwf1uO8OqnBzBbDTq3a8lbd/TWtc2p\n",
              "OtM8d9N+fkzNJ6eojPZa4F1q4URxOY+tTOCbA1WXuL6mqy+v3BpJOw/1ropI06TQKhctv6SCRz6M\n",
              "5+tf/qjGRHXgxTG98HDX/1YAHVu34LKg1vx89BSfJGZxz+DOti5JHMRX+3N47KNE8koqcHdx4i/D\n",
              "u3Hn5UFN+psLERGlC7koP6XlM235brJ+aQeYE9OD2H6d9Ef1f4yM9Ofno6dYl5Cp0CrnVVZpYe7G\n",
              "ffxz+1Ggavm0hbf3JqK9p40rExGxPYVWqRWr1WDRd4d5/bODWKwGIe1a8tYdfXS5yN9xc6Q/z23Y\n",
              "S3xGARn5pXRq08LWJYmd2pdVxPS43RzMOQ3AnwZ35rEbu2jYSkTkFwqtcsHyTpcz48MEvj1Y1Q4w\n",
              "OroDL9yidoBz8fVsxuUhbdl2OI/1iZncPzTM1iWJnbFaDZZuS+PlTfupsFjx8XTntXFRXBXhY+vS\n",
              "RETsitKGXJAdqfn8efkucorKcXepuljAbX3VDnAhYqI6VIXWhCyFVqkht6iMR1cm8t0v/xC8rpsv\n",
              "L4+NpK2GrUREfkOhVc7JajX427eHef2zA1gNCPVpydt/6KMFzWthWE8/nvo4iX1ZRaTkFhPmq/5E\n",
              "gS/25vD4qkTySypo5urEU8O1TJyIyLkotMrvOnm6nIdXxLPl0EkAxvQO4PnRPWmpdoBaadXCjSsj\n",
              "fPhqfy7rE7J4+HqF1qbsTIWFv27cy7If0gHo7u/Fwtuj9Y8ZEZHzUPqQs/rhSB7Tlu8mt7icZq5O\n",
              "PDeqJ+Mu66izQBdpZJT/L6E1k4euC9d/xyYqObOQ6XHxpORWDVtNHtKZR2/sgruLhq1ERM5HoVVq\n",
              "sFgN3v46hflfHMRqQJivB+/8oY+W3LlE13Vrj7uLE0dOlpCcWUTPAF18oSmxWg3+vjWVVzYfoMJi\n",
              "xdfTnXm3RTM4vJ2tSxMRcRgKrVLtRHFVO8D3KVXtALde1pHnRvWghZv+N7lUns1cuaarL5uSslmf\n",
              "mKnQ2oTkFJXx6EcJ1W0213dvz8tjI2nT0s3GlYmIOBYnWxcg9mHb4ZPcvHAL36ecpLmrM6+Ni+K1\n",
              "cVEKrHVoZFQHADYkZGEYho2rkYbwaXI2w+Z/x5ZDJ2nm6sSLt/Ti3TsvU2AVEbkISiRNnMVq8OZX\n",
              "h1j45SGsBkS09+DtO/oQrnaAOndNV19aujlzvOAMu9ILuCyota1LknpSWmHm+Q37WL6jatiqZ4AX\n",
              "88f3JszXw8aViYg4LoXWJiy3uIyH4uLZdjgPgNv6dmROTE+au2kopD40c3Xmhh5+rNl9nPUJmQqt\n",
              "jVTS8UKmxe3myIkSTCa498oQHrm+C24u+mJLRORS6LdoE7U15SQ3L/iebYfzaOHmzBvjo3jl1igF\n",
              "1no2MsofgE/2ZGGxqkWgMbFaDRZ/e5hb3tnKkRMl+Hk1499/GsCsm7opsIqI1AGdaW1iLFaDBV8e\n",
              "4s2vDmEY0KW9J2//oY++tmwgg8N88G7uyonicn48ksfAME2PNwbZhWXM+PA/31oM6+HH3DG9aK3e\n",
              "VRGROqPQ2oTkFJUxPW43PxzJB+D2/p14ZmQPmrnq7GpDcXNx4qaefsT9lMH6xEyF1kZgc1I2T6xO\n",
              "pKC0kuauzjwb012XOBYRqQf6zqqJ+O7gCW5esIUfjuTT0s2ZBbHRzB0TqcBqA7+uIrApKZsKs9XG\n",
              "1cjFKik388SqRKYu+5mC0koiO3rzybTBjO+nS7GKiNQHnWlt5MwWK/O/OMTb36RgGNDN34u37+hN\n",
              "iI/aAWzl8pC2tPNw5+TpcramnOTqrr62LklqKfFYAdPj4kk9WTVsNfWqUB6+LkK9qyIi9UihtRHL\n",
              "LixjWtxudqRWtQPcMSCQp0d019lVG3N2MjEi0p9/bEtjfUKmQqsDsVgNFn93mHmfHcRsNfD3bsa8\n",
              "26K5IrStrUsTEWn0FFobqW8PnuDhFfHkl1TQ0s2ZuWMjifnla2mxvZFRVaH1s705lFVa9A8JB5BZ\n",
              "cIYZH8ZX94QP7+XPi7f0wruFq40rExFpGhRaGxmzxcrrnx/kb98cBqC7vxdv/6EPndu1tHFl8t96\n",
              "d2pNQKvmHC84w9f7c7mpl7+tS5Jz2Lgni1mr91B4ppIWbs7MienBrZd1VO+qiEgDUmhtRLIKzzBt\n",
              "+W5+SjsFwJ2XB/GX4d10Fs8OOf3SIrD4uyOsT8xUaLVTJeVmnl2XzEc/HwMgqlMrFoyPJlj/CBQR\n",
              "aXAKrY3E1/tzmfFhPKdKK/Fwd+Glsb0YEal2AHs2MqoDi787wpf7cjldbsbDXR9HexKfUcBDcbtJ\n",
              "yyvFZIIHhoYx/bpwXJ01bCUiYgv6K+ngKi1WXvvsAIu/PQJUXeP8rdv76EyQA+jRwYvO7VqSerKE\n",
              "L/bmMLp3gK1LEqqGrRZ9e5g3Pq8atgpo1Zx5t0UxIETDViIitqRTBg4ss+AMse/+UB1Y77oiiFX3\n",
              "DVRgdRAmk6l6zdb1CZk2rkYAjhec4fZ3f+DVTw9gthqMiPRn4/QhCqwiInZAZ1od1Jf7cnjkowQK\n",
              "SivxdHfhlVsj1RfpgEZG+rPwy0N8d+gEBaUVtGqhy37ayvqETJ5cs4fisqpWjedG9eCW3gEathIR\n",
              "sRMKrQ6m0mLl1U8P8O53VWdXIzt689btfQhs28LGlcnFCG/vSVc/T/ZnF/Npcjbj+wXauqQm53S5\n",
              "mafXJrF613EAege2YsH43vpMiYjYGYVWB3LsVCl/Xr6b3ekFAEwcGMysm7vi7qLVARzZyKgO7M8+\n",
              "wLqETIXWBrYr/RQPxcWTnl+KkwkevCacadeE4aJhKxERu6PQ6iA+35vDox8lUHimEs9mLrx6axTD\n",
              "evrZuiypAyMjO/DqpwfYfjiP3OIyfD2b2bqkRs9iNXj76xQWfHkIyy/DVgtio+kb3MbWpYmIyO9Q\n",
              "aLVzFWYrr2zez3vfpwIQ1dGbt+7oQ6c2+uqysQhs24KoTq1IyChg055s7hoYbOuSGrWM/FJmfBhf\n",
              "vZ7xqOgOPD+6J17NdGUrERF7ptBqxzLyS3lw+W4SMgoA+NPgzswc1hU3F3112diMjPQnIaOA9QmZ\n",
              "Cq31aG38cZ5ak0TxL+vivjC6p5YaExFxEAqtdurT5Gwe+yiBojIzXs1ceG1cFDf0UDtAYzUisgN/\n",
              "3biPnUdPcbzgDAGtmtu6pEalqKySZ9Yms2Z31bDVZUGtmT8+Wt9YiIg4EIVWO1NhtjJ30z6Wbk0D\n",
              "ILpTK966ozcdW+uPa2Pm592M/sFt+DE1n08SM7n3ylBbl9Ro/Hw0n+lx8Rw7dQZnJxPTrgnngatD\n",
              "NWwlIuJgFFrtSHpeKQ8u30XisUIAJg/pzGM3qh2gqRgZ1YEfU/NZl6DQWhfMFitvfpXCm18dwmpA\n",
              "pzbNmT++N5cFtbZ1aSIichEUWu3E5qQsHluZSHGZmVYtXHnt1iiu697e1mVJA7qppx/PrEsm6XgR\n",
              "R06cJsTHw9YlOayM/FKmx+1m1y/Lw43pHcCcUT3w1LCViIjDUmi1sXKzhRc/2cc/tx8FoE9gK968\n",
              "o496Gpugth7uDAprx3cHT7AhMYtp14bbuiSHtGb3MWZ/nMzpcjOezaqGrUZFa9hKRMTR1fp750OH\n",
              "DjFw4EAiIiLo168fycnJZ91uyZIlhIeHExoayuTJk6msrATgq6++on///nTv3p0ePXrw+OOPY7Va\n",
              "L20vHNTRvBJu/dv26sA65aoQVky5QoG1CRsZWXUp3nUJmRiGYeNqHEtRWSXT43bz8IoETpeb6Rfc\n",
              "mk3Thyiwiog0ErUOrVOmTOHee+/l4MGDzJw5k4kTJ/5mm9TUVGbPns2WLVtISUkhJyeHd999F4DW\n",
              "rVsTFxfH3r17+fnnn9m2bRvvv//+Je+Io/kkMYsRC79nz/FCWrdwZenEfsy6qRuuGg5p0m7o4Yeb\n",
              "sxMpuac5kFNs63Icxk9p+dw0fwtr4zNxdjLxyPURxN17hQYYRUQakVolpNzcXHbu3MmECRMAGDt2\n",
              "LBkZGaSkpNTYbuXKlcTExODn54fJZGLq1KksX74cgN69exMSEgJAs2bNiI6OJi0t7azvV15eTlFR\n",
              "UY2bxWKp7T7albJKC7M/TuKBD3ZRXG6mb1BrPpk2hKu7+tq6NLED3s1dGdrFB4D1CZk2rsb+VVqs\n",
              "vP7ZAcYv3s7xgjMEtmnByqlX8Odrw3F2Mtm6PBERqUO1Cq0ZGRn4+/vj4lLVCmsymQgMDCQ9Pb3G\n",
              "dunp6QQFBVXfDw4O/s02ANnZ2axcuZIRI0ac9f3mzp2Lt7d3jduOHTtqU7JdST1Zwti/beNfP1S1\n",
              "A9w3NJTl915OB7UDyH8ZGdUBgPUJWWoROIejeSWMW7SdN79KwWrArZd1ZOP0IfQO1OoAIiKNkc2+\n",
              "iy4qKmLkyJE8/vjj9O3b96zbzJo1i8LCwhq3/v37N3CldWN9QiYj3/ye5Mwi2rR04x9392PmsK5q\n",
              "B5DfuLabL81dnUnPLyXhl+XP5D8Mw2Dlz8e4ecEW4jMK8Grmwlt39Oa1cVF4uGu2VESksarVb/hO\n",
              "nTqRlZWF2WzGxcUFwzBIT08nMDCwxnaBgYEcPny4+n5aWlqNbYqLixk2bBijRo1ixowZv/t+7u7u\n",
              "uLu71/iZs7NzbUq2ubJKC89t2MsHP1adae4f3IaFt/fGz7uZjSsTe9XCzYXrurdnfUIm6xMyie7U\n",
              "ytYl2Y3C0kr+8vEeNiRmAdC/cxveGB+t4UURkSagVqf5fH196dOnD8uWLQNg1apVdOzYkbCwsBrb\n",
              "jR07lnXr1pGdnY1hGCxatIjY2FgATp8+zbBhwxg2bBhPPfVUHe2GfTpy4jS3vLOND35Mx2SCB68O\n",
              "44PJAxRY5bx+XUVgQ2ImVqtaBAB+PJLHTQu+Y0NiFi5OJh67sQvLJ1+uwCoi0kTU+ru0xYsXM3Hi\n",
              "RF588UW8vLxYunQpAJMmTSImJoaYmBhCQkKYM2cOgwYNAmDo0KFMmTIFgAULFrBjxw5KSkpYvXo1\n",
              "AOPGjeMvf/lLXe2TXVgbf5wnV++hpMJC25ZuvDE+misjfGxdljiIq7r44NnMhZyicn5Ky2dASFtb\n",
              "l2QzlRYr8784yDvfHMYwILhtCxbE9iZKZ6BFRJoUk+Fgkx4zZsxg3rx5ti7jd5VVWpizPpnlOzIA\n",
              "GNC5qh2gvZfOrkrtPPpRAit/PsaEywN5YXQvW5djE6knS3gobnd1b+9tfTvyzMgetFTvqohIk6Mp\n",
              "oDqUknua0W9vZfmODEwmmHZNGP+eNECBVS5KzC+rCGzck43Z0rQuwGEYBh/+lMHwhVtIOFaId3NX\n",
              "3vlDH165NUqBVUSkidJv/zqyZvcx/rImidIKC+083Jg/vjeDw9vZuixxYAND29KmpRv5JRVsO5zX\n",
              "ZNpLCkoreHLNHjbuyQbgipC2zBsfhb+3eldFRJoyhdZLdKbCwrPrklmxs6od4IqQtiyIjcZXZ1fl\n",
              "Erk4O3FzLz+W/ZDOuoTMJhFatx/OY8aH8WQVluHiZOLRG7sweUiILhQgIiJqD7gUKbnFjH57Kyt2\n",
              "VrUDTL82nGWTBiiwSp0ZGVnVIvBpUjblZse+Gty5VJitvLRpP3e89wNZhWWEtGvJmvsHMfWqUAVW\n",
              "EREBdKb1oq36+RhPfZzEmUoL7TzcWRgbzcAwtQNI3eoX3Ib2Xu7kFJXz7YET3NDDz9Yl1bkjJ04z\n",
              "PS6ePcerhq1u79+J2SO608JNv55EROQ/9FehlkorzDy9NpmVPx8DYFBYW94YH42vp86uSt1zcjIx\n",
              "IrIDS75PZX1iVqMKrYZhsOKnDOas38uZSgutWrjy0phIhvVsPPsoIiJ1R6G1Fg7mFPPAv3dxKPc0\n",
              "TiZ46LoIHrg6TF9fSr0aGVUVWr/Ym0NphblRnIE8VVLBrNV72JxcNWw1KKwtr4+L1oU3RETkdzn+\n",
              "X78G8tHODGavTaKs0oqPpzsLY3tzRWjTXfBdGk5UR28C27QgPb+UL/flMvKXpbAc1daUk8z4MJ6c\n",
              "onJcnauubDVpcAhO+sefiIicg0LreZSUm5m9NonVu44DMCS8HW+Mj6adh7uNK5OmwmQyMTLKn7e/\n",
              "Psy6hEyHDa0VZiuvf3aAd7ccwTAg1KclC2J70zPA29aliYiIA1BoPYcD2cXc/++fOXyiBCcTPHJD\n",
              "F+67KlRnhKTBjYzqwNtfH+bbAycoPFOJd3NXW5dUKym5p5ket5vkzCIA/jAgkKeGd6e5m7ONKxMR\n",
              "EUeh0HoOm5KyOHyihPZeVe0ATfn672JbXdp7Eu7rwaHc03yWnM24vp1sXdIFMQyDD3ak8/yGvZRV\n",
              "WmndwpWXx0Y2qoEyERFpGAqt5/Dna8KptFi5Z1Bn2qodQGyoqkWgA/M+P8j6xCyHCK35JRXMXJXI\n",
              "53tzgKrWmtfHRWkdYxERuSi6uMA5ODuZeOzGrgqsYhdGRPoDVYNMeafLbVzNuW05dIJh87/j8705\n",
              "uDk78dTwbvzz7v4KrCIictEUWkUcRIiPBz0DvLBYDTYlZdu6nLMqN1t4YcNe7lyyg9zicsJ8PVjz\n",
              "wEAmDdHqACIicmkUWkUcSMwvKwesT8i0cSW/dSinmNFvb+O971MB+OMVQax/cDA9Omh1ABERuXQK\n",
              "rSIOZHhkVWjdkZZPdmGZjaupYhgG/9qexog3v2dfVhFtW7qx5K6+PDeqp1YHEBGROqPQKuJAAlo1\n",
              "p29QawwDNiTa/mxr3ulyJr+/k9lrkyk3W7kqwodNDw3h2m7tbV2aiIg0MgqtIg7m14sLrE/Msmkd\n",
              "3x48wY3zt/DFvlzcXJx4ZmR3lk7sh6+nhq1ERKTuKbSKOJibevnhZIKEjALS80ob/P3LKi08t34v\n",
              "d/19BydPlxPR3oN1Dw7i7kGdNWwlIiL1RqFVxMH4ejbjitCqC12sb+AWgYM5xYx+eyt/31o1bDVx\n",
              "YDDrHhxMVz+vBq1DRESaHoVWEQc0MrJhVxEwDIN/bktj5Jvfsz+7mHYebiyd2I9nY3rQzFXDViIi\n",
              "Uv8UWkUc0LCefrg6m9ifXcyhnOJ6fa/SCjPT4uJ5Zl3VsNXVXXzYNP1Kru7qW6/vKyIi8t8UWkUc\n",
              "UKsWblwZ7gPU79nW9LxSxryzjfUJmbg4mXhmZHf+PrEfPp66SpyIiDQshVYRB/XfqwgYhlHnr//d\n",
              "wROMfOvXdgB3lt97OXcP6ozJpGErERFpeC62LkBELs513dvj7uJE6skSkjOL6BlQN1eeMgyDxd8d\n",
              "4ZXN+7EaEN2pFYsmXIaft5ayEhER29GZVhEH5eHuwrXdqvpK66pFoLTCzIPLd/PSpqrAGtuvEyum\n",
              "XK7AKiIiNqfQKuLAfl1FYENiFlbrpbUIHM0rYcw72/gkMQtXZxN/vaUnc8f0wt1FqwOIiIjtqT1A\n",
              "xIFd3dUXD3cXjhecYXfGKS4LanNRr/PNgVymLd9NUZkZH093Fk3oc9GvJSIiUh90plXEgTVzdeaG\n",
              "7u0BWBdf+xYBwzB455sU7v7HTxSVmekd2IoNfx6swCoiInZHoVXEwf26isAne7IwW6wX/LyScjMP\n",
              "fLCLVzYfwDDg9v6BxN17Oe291L8qIiL2R+0BIg5uUFg7WrVw5eTpCn5MzWdQWLvzPiftZAn3/msn\n",
              "B3NO4+psYk5MT+4YENgA1YqIiFwcnWkVcXBuLk7c1NMPuLBVBL4+kEvMW99zMOc0vp7uxN17hQKr\n",
              "iIjYPYVWkUbg11UENiVlU2E+e4uAYRi89dUh7vmlf/WyoNa/9K+2bshSRURELopCq0gjMCCkLT6e\n",
              "7hSeqeT7lBO/efx0uZn7lu3itc8OYhjwhwGBLJ98Ob7qXxUREQeh0CrSCDg7mRjeyx/47SoCR06c\n",
              "ZvTbW9mcnI2bsxMvjenFX2/phZuLPv4iIuI49FdLpJH4dRWBz/fmcKbCAsBX+3MY9fZWUnJP097L\n",
              "nbgplxPbX/2rIiLieLR6gEgj0SewFQGtmnO84Axf7s/hyIkS3viiqh2gb1Br3pnQB19PtQOIiIhj\n",
              "UmgVaSRMJhMjovxZ/O0RHl+ZSOkvZ1snXB7I0yN6qB1AREQcmv6KiTQiv64iUFphwc3ZiZfH9uKF\n",
              "0epfFRERx6czrSKNSI8OXlwV4UPqyRIW3t6b6E6tbF2SiIhInVBoFWlETCYT/7ynP4ZhYDKZbF2O\n",
              "iIhIndF3hiKNkAKriIg0NgqtIiIiImL3ah1aDx06xMCBA4mIiKBfv34kJyefdbslS5YQHh5OaGgo\n",
              "kydPprKy8oIeExERERH5X7UOrVOmTOHee+/l4MGDzJw5k4kTJ/5mm9TUVGbPns2WLVtISUkhJyeH\n",
              "d99997yPiYiIiIicTa1Ca25uLjt37mTChAkAjB07loyMDFJSUmpst3LlSmJiYvDz88NkMjF16lSW\n",
              "L19+3sdERERERM6mVqsHZGRk4O/vj4tL1dNMJhOBgYGkp6cTFhZWvV16ejpBQUHV94ODg0lPTz/v\n",
              "Y/+rvLyc8vLyGj+zWCy1KVlEREREGgG7HsSaO3cu3t7eNW47duywdVkiIiIi0sBqFVo7depEVlYW\n",
              "ZrMZAMMwSE9PJzAwsMZ2gYGBHD16tPp+Wlpa9Tbneux/zZo1i8LCwhq3/v3716ZkEREREWkEahVa\n",
              "fX196dOnD8uWLQNg1apVdOzYsUZrAFT1uq5bt47s7GwMw2DRokXExsae97H/5e7ujpeXV42bs7Pz\n",
              "xeyniIiIiDiwWrcHLF68mMWLFxMREcFLL73E0qVLAZg0aRLr1q0DICQkhDlz5jBo0CDCwsLw8fFh\n",
              "ypQp531MRERERORsTIZhGLYuojZmzJjBvHnzbF2GiIiIiDQgux7EEhEREREBBzzTOmbMGIKDg21d\n",
              "hl2yWCzs2LGD/v37q/fXAeh4OR4dM8ei4+V4dMwcy7mOV1BQENOnT6/T93O40Cq/r6ioCG9vbwoL\n",
              "C/Hy8rJ1OXIeOl6OR8fMseh4OR4dM8fS0MdL7QEiIiIiYvcUWkVERETE7im0ioiIiIjdU2htRNzd\n",
              "3XnmmWdwd3e3dSlyAXS8HI+OmWPR8XI8OmaOpaGPlwaxRERERMTu6UyriIiIiNg9hVYRERERsXsK\n",
              "rSIiIiJi9xRa7UxwcDBdunQhOjqa6OhoVqxYQV5eXvX96OhoIiIicHFxIT8/H4ChQ4fSuXPn6sff\n",
              "eOON37zuV199hbOzM/Pnz6/+2cSJEwkICKh+3mOPPdZQu9mo1PUxO9djubm5DBs2jPDwcHr27Ml3\n",
              "333X4Pvr6BryeF3IZ1POra6Pl2EYPPvss0RERNCrVy+uvvrq6sf0+aobDXnM9Bm7dHV9vAYMGFD9\n",
              "8549e2IymUhMTASgtLSU22+/nbCwMCIiIli5cmXtijXErgQFBRm7d+8+5zavvvqqMWLEiOr7V111\n",
              "lbFmzZrf3b6goMDo16+fMWLECOONN96o/vldd91V475cnLo+Zud67O677zaeeeYZwzAMY8eOHUZA\n",
              "QIBRUVFxEVU3XQ15vM732ZTzq+vjNX/+fOOWW24xysvLDcMwjKysrOrH9PmqGw15zPQZu3T1kTt+\n",
              "9dFHHxk9e/asvj9nzhzjrrvuMgzDMI4cOWL4+PgYJ0+evOBadabVAS1ZsoQ//elPF7z9gw8+yFNP\n",
              "PUXbtm3rsSo5l9oes9/z4YcfMnXqVAD69etHhw4d+Pbbby/5daWmujpe0jBqc7xeffVVXnrpJdzc\n",
              "3ADw8/Orfkyfr4ZTV8dMGsbF/k783+etWLGi+jPWuXNnhg4dypo1ay749RRa7dAf//hHevXqxZ/+\n",
              "9CdOnDhR47Ft27Zx6tQpRowYUePnTzzxBL169WL8+PEcOXKk+ucrV67EycmJmJiYs77XggULiIyM\n",
              "ZMSIEcTHx9f5vjQVdXnMfu+xvLw8Kisra/zCDg4OJj09vZ72qvFqiON1IY/Jhamr41VUVEROTg5r\n",
              "165lwIABDBgwgBUrVgD6fNW1hjhm53qe1E5d/04EyMjI4Ntvv2XChAnVP0tPTycoKKj6fq0/Yxd8\n",
              "TlYaxNGjRw3DMIyKigrj8ccfN2666aYaj99zzz3GY489VuNn6enphmEYhtVqNd58802jW7duhmFU\n",
              "fYUSFRVlnDp1yjCM37YDHDt2zLBYLIZhGMbq1asNPz8/o7i4uD52q1Gry2N2rsdOnjxpuLm51Xid\n",
              "cePGGUuWLKnbHWrkGup4ne8xuTB1ebzy8vIMwJgzZ45hGIaRmppq+Pv7G/Hx8fp81aGGOmbnep5c\n",
              "uLr+nfir5557zhg3blyNn3l4eBiZmZnV9x977DFj9uzZF1yrQqsdy8zMNDw8PKrvFxcXGx4eHsa+\n",
              "ffvO+Tx3d3fj5MmTxoYNGwxfX18jKCjICAoKMlq2bGm0bt3aePLJJ8/6vIiICGPnzp11ug9NzaUe\n",
              "s/M91qJFixr9XP369TM+//zzOqi8aarv41Wbx+T86uJ4eXh4GIcPH65+7NZbbzX+7//+zzAMfb7q\n",
              "Q30fs3M9T2qvrn4nWq1Wo3PnzsbmzZtrbNe9e3dj+/bt1ffHjRv3u8fybNQeYEdKSkooKCiovr98\n",
              "+XJ69+5dfX/FihVERUXRtWvX6p+ZzWZycnKq769atYr27dvTtm1bhg8fTk5ODmlpaaSlpXHrrbfy\n",
              "9NNP89e//hWAY8eOVT/vhx9+IC8vj7CwsHrcw8anro/ZuR4DGDduHIsWLQLgp59+4vjx41x11VX1\n",
              "tXuNTkMer/MdSzm/uj5eALfffjubN28GID8/nx07dhAZGQno81UXGvKY6TN26erjeEHVikVms5nr\n",
              "r7++xvv992csNTWVb775htGjR19wvS4XvKXUu5ycHMaOHYvFYsEwDEJCQnj//ferH1+yZAmTJ0+u\n",
              "8Zzy8nKGDx9OeXk5Tk5OtGvXjnXr1l3Q+02cOJGcnBycnZ1p3rw5H330Ed7e3nW6T41dXR+z8x3P\n",
              "l19+mTvvvJPw8HDc3NxYtmwZrq6uDbOzjUBDHq9L+WxKlfr4nTh37lzuvvtu3nnnHQBmzpxJ//79\n",
              "AX2+6kJDHrOSkhJ9xi5RfeWOJUuWcPfdd+PkVPPc6GOPPcY999xDaGgozs7OvPXWW7Rr1+6C6zUZ\n",
              "hmFcxH6KiIiIiDQYtQeIiIiIiN1TaBURERERu6fQKiIiIiJ2T6FVRMSBTJo0ia+//vqsjz366KM8\n",
              "++yzDVuQiEgD0eoBIiIO5L333rN1CSIiNqEzrSIiF2H79u0MHjyYqKgoIiMjWbt2LY8++ij9+vUj\n",
              "OjqaK6+8kgMHDgBw5swZxo8fT/fu3YmKiuKGG26ofp1//etfDBgwgD59+nDllVeSkJBwzvcdOnQo\n",
              "H3/8MQBZWVnceOONdO/eneuuu67G2ssiIo2NzrSKiNRSfn4+o0ePZuXKlQwZMgSr1UpBQQEDBw7k\n",
              "tddeAyAuLo7p06ezefNmNm/eTEFBAXv37q1+PsDWrVtZvnw53333He7u7mzZsoU77riD5OTkC6pj\n",
              "2rRp9O/fn08//ZTjx48THR1dYxFwEZHGRKFVRKSWtm/fTpcuXRgyZAgATk5OtGnThg8++IA333yT\n",
              "4uJirFZrdTiNiopi37593H///Vx11VXcfPPNAKxdu5aEhAQGDBhQ/dr5+fmcOXOG5s2bn7eOL7/8\n",
              "sjokBwQEEBMTU9e7KiJiN9QeICJSB9LT03nwwQdZtmwZSUlJxMXFUVZWBkBISAh79+5l2LBhbN26\n",
              "lZ49e3Lq1CkMw+Cuu+4iPj6++paVlXVBgfVsTCZTXe6SiIhdUWgVEamlgQMHcujQIbZs2QKA1Wol\n",
              "NTUVV1dX/P39MQyDt956q3r7Y8eOYTKZiImJ4bXXXsMwDDIyMoiJiWHZsmWkp6dXv87OnTsvuI7r\n",
              "rruOv//970BVf6suYSkijZnaA0REaql169asWbOGRx55hOLiYpycnHj++eeJjY2lR48etG3bltGj\n",
              "R1dvv2fPHmbNmoVhGJjNZu68804iIyMBeOWVV7jlllswm81UVFQwfPhw+vbte0F1LFiwgIkTJ9K9\n",
              "e3cCAgK45ppr6mN3RUTsgskwDMPWRYiIiIiInIvaA0RERETE7qk9QETEzrz33ns1emJ/9eabb1av\n",
              "WCAi0tSoPUBERERE7J7aA0RERETE7im0ioiIiIjdU2gVEREREbun0CoiIiIidk+hVURERETsnkKr\n",
              "iIiIiNg9hVYRERERsXsKrSIiIiJi9/4f62ucsPRcH90AAAAASUVORK5CYII=\n",
              "\">\n",
              "      </div>\n",
              "      <script type=\"text/javascript\">\n",
              "        (() => {\n",
              "          const chartElement = document.getElementById(\"chart-b29f0acd-7537-44c5-8940-4377ea715d3f\");\n",
              "          async function getCodeForChartHandler(event) {\n",
              "            const chartCodeResponse =  await google.colab.kernel.invokeFunction(\n",
              "                'getCodeForChart', [\"chart-b29f0acd-7537-44c5-8940-4377ea715d3f\"], {});\n",
              "            const responseJson = chartCodeResponse.data['application/json'];\n",
              "            await google.colab.notebook.addCell(responseJson.code, 'code');\n",
              "          }\n",
              "          chartElement.onclick = getCodeForChartHandler;\n",
              "        })();\n",
              "      </script>\n",
              "      <style>\n",
              "        .colab-quickchart-chart-with-code  {\n",
              "            display: block;\n",
              "            float: left;\n",
              "            border: 1px solid transparent;\n",
              "        }\n",
              "\n",
              "        .colab-quickchart-chart-with-code:hover {\n",
              "            cursor: pointer;\n",
              "            border: 1px solid #aaa;\n",
              "        }\n",
              "      </style>"
            ]
          },
          "metadata": {}
        },
        {
          "output_type": "stream",
          "name": "stdout",
          "text": [
            "Error: Runtime no longer has a reference to this dataframe, please re-run this cell and try again.\n"
          ]
        }
      ]
    },
    {
      "cell_type": "code",
      "source": [
        "df_subm.to_csv(\"submission_LGB.csv\")\n"
      ],
      "metadata": {
        "trusted": true,
        "id": "BT2PIi3VyNYP"
      },
      "execution_count": null,
      "outputs": []
    },
    {
      "cell_type": "markdown",
      "source": [
        "# Training with 2 different Models"
      ],
      "metadata": {
        "id": "4s20Zk1Z2GLC"
      }
    },
    {
      "cell_type": "markdown",
      "source": [
        "Run this section seprately with LightGB model section since I am using two different models here"
      ],
      "metadata": {
        "id": "jmFSvuyx6KXE"
      }
    },
    {
      "cell_type": "markdown",
      "source": [
        "###XGBoost Model"
      ],
      "metadata": {
        "id": "bz1Ys1XO4haI"
      }
    },
    {
      "cell_type": "code",
      "source": [
        "#XGBoost\n",
        "X = df_train.drop(columns=[\"target\", \"case_id\", \"WEEK_NUM\"])\n",
        "y = df_train[\"target\"]\n",
        "weeks = df_train[\"WEEK_NUM\"]\n",
        "\n",
        "cv = StratifiedGroupKFold(n_splits=5, shuffle=False)\n",
        "\n",
        "params = {\n",
        "    \"objective\": \"binary:logistic\",\n",
        "    \"eval_metric\": \"auc\",\n",
        "    \"max_depth\": 6,\n",
        "    \"learning_rate\": 0.05,\n",
        "    \"n_estimators\": 1000,\n",
        "    \"colsample_bytree\": 0.8,\n",
        "    \"colsample_bynode\": 0.8,\n",
        "    \"verbosity\": 0,\n",
        "    \"random_state\": 42,\n",
        "    \"tree_method\": \"gpu_hist\",\n",
        "    \"enable_categorical\": True , # Enable experimental categorical feature support\n",
        "}\n",
        "\n",
        "fitted_models = []\n",
        "\n",
        "for fold, (idx_train, idx_valid) in enumerate(cv.split(X, y, groups=weeks)):\n",
        "    X_train, y_train = X.iloc[idx_train], y.iloc[idx_train]\n",
        "    X_valid, y_valid = X.iloc[idx_valid], y.iloc[idx_valid]\n",
        "\n",
        "    model = xgb.XGBClassifier(**params)\n",
        "    model.fit(\n",
        "        X_train, y_train,\n",
        "        eval_set=[(X_valid, y_valid)],\n",
        "        verbose=100\n",
        "    )\n",
        "\n",
        "    fitted_models.append(model)\n",
        "    print(f\"Completed training fold {fold+1}/{cv.n_splits}\")\n",
        "\n",
        "# Function to compute average predictions from multiple models\n",
        "def average_predict(models, X):\n",
        "    preds = [model.predict_proba(X)[:, 1] for model in models]\n",
        "    return np.mean(preds, axis=0)\n",
        "\n",
        "# Example of creating a voting classifier from the fitted models (not needed if using average_predict)\n",
        "model = VotingClassifier(estimators=[(f\"model_{i}\", m) for i, m in enumerate(fitted_models)], voting='soft')\n",
        "\n",
        "\n"
      ],
      "metadata": {
        "execution": {
          "iopub.status.busy": "2024-05-01T20:06:43.709717Z",
          "iopub.execute_input": "2024-05-01T20:06:43.71109Z"
        },
        "trusted": true,
        "id": "LiEuc8lOyNYL",
        "outputId": "23cdae05-0cf0-4d4b-ec57-44d410376fb0",
        "colab": {
          "base_uri": "https://localhost:8080/"
        }
      },
      "execution_count": null,
      "outputs": [
        {
          "output_type": "stream",
          "name": "stdout",
          "text": [
            "[0]\tvalidation_0-auc:0.72763\n",
            "[100]\tvalidation_0-auc:0.83338\n",
            "[200]\tvalidation_0-auc:0.84555\n",
            "[300]\tvalidation_0-auc:0.84926\n",
            "[400]\tvalidation_0-auc:0.85120\n",
            "[500]\tvalidation_0-auc:0.85216\n",
            "[600]\tvalidation_0-auc:0.85280\n",
            "[700]\tvalidation_0-auc:0.85328\n",
            "[800]\tvalidation_0-auc:0.85365\n",
            "[900]\tvalidation_0-auc:0.85395\n",
            "[999]\tvalidation_0-auc:0.85408\n",
            "Completed training fold 1/5\n",
            "[0]\tvalidation_0-auc:0.72443\n",
            "[100]\tvalidation_0-auc:0.83608\n",
            "[200]\tvalidation_0-auc:0.84714\n",
            "[300]\tvalidation_0-auc:0.85028\n",
            "[400]\tvalidation_0-auc:0.85197\n",
            "[500]\tvalidation_0-auc:0.85310\n",
            "[600]\tvalidation_0-auc:0.85392\n",
            "[700]\tvalidation_0-auc:0.85450\n",
            "[800]\tvalidation_0-auc:0.85495\n",
            "[900]\tvalidation_0-auc:0.85525\n",
            "[999]\tvalidation_0-auc:0.85529\n",
            "Completed training fold 2/5\n",
            "[0]\tvalidation_0-auc:0.73206\n",
            "[100]\tvalidation_0-auc:0.83931\n",
            "[200]\tvalidation_0-auc:0.85150\n",
            "[300]\tvalidation_0-auc:0.85526\n",
            "[400]\tvalidation_0-auc:0.85708\n",
            "[500]\tvalidation_0-auc:0.85808\n",
            "[600]\tvalidation_0-auc:0.85883\n",
            "[700]\tvalidation_0-auc:0.85938\n",
            "[800]\tvalidation_0-auc:0.85982\n",
            "[900]\tvalidation_0-auc:0.86016\n",
            "[999]\tvalidation_0-auc:0.86038\n",
            "Completed training fold 3/5\n",
            "[0]\tvalidation_0-auc:0.73366\n",
            "[100]\tvalidation_0-auc:0.83943\n",
            "[200]\tvalidation_0-auc:0.85147\n",
            "[300]\tvalidation_0-auc:0.85532\n",
            "[400]\tvalidation_0-auc:0.85697\n",
            "[500]\tvalidation_0-auc:0.85817\n",
            "[600]\tvalidation_0-auc:0.85903\n",
            "[700]\tvalidation_0-auc:0.85957\n",
            "[800]\tvalidation_0-auc:0.86002\n",
            "[900]\tvalidation_0-auc:0.86013\n",
            "[999]\tvalidation_0-auc:0.86022\n",
            "Completed training fold 4/5\n",
            "[0]\tvalidation_0-auc:0.71923\n",
            "[100]\tvalidation_0-auc:0.83451\n",
            "[200]\tvalidation_0-auc:0.84713\n",
            "[300]\tvalidation_0-auc:0.85093\n",
            "[400]\tvalidation_0-auc:0.85293\n",
            "[500]\tvalidation_0-auc:0.85421\n",
            "[600]\tvalidation_0-auc:0.85478\n",
            "[700]\tvalidation_0-auc:0.85553\n",
            "[800]\tvalidation_0-auc:0.85588\n",
            "[900]\tvalidation_0-auc:0.85607\n",
            "[999]\tvalidation_0-auc:0.85613\n",
            "Completed training fold 5/5\n"
          ]
        }
      ]
    },
    {
      "cell_type": "markdown",
      "source": [
        "XGBoost Prediection and Results"
      ],
      "metadata": {
        "id": "oC4MhYpE4pHa"
      }
    },
    {
      "cell_type": "code",
      "source": [
        "# Preparing X_test\n",
        "X_test = df_test.drop(columns=[\"WEEK_NUM\"])\n",
        "X_test = X_test.set_index(\"case_id\")\n",
        "\n",
        "# Collecting predictions from each model\n",
        "model_predictions = [model.predict_proba(X_test)[:, 1] for model in fitted_models]\n",
        "\n",
        "# Calculating the average of the probabilities across all models\n",
        "average_probabilities = np.mean(model_predictions, axis=0)\n",
        "\n",
        "# Creating a pandas Series to store the final averaged probabilities\n",
        "y_pred = pd.Series(average_probabilities, index=X_test.index)\n",
        "\n",
        "print(y_pred.head())\n"
      ],
      "metadata": {
        "id": "8SepkzMeR-au",
        "outputId": "6059350f-76c2-4760-b84d-d6d756217be2",
        "colab": {
          "base_uri": "https://localhost:8080/"
        }
      },
      "execution_count": null,
      "outputs": [
        {
          "output_type": "stream",
          "name": "stdout",
          "text": [
            "case_id\n",
            "57543    0.013924\n",
            "57549    0.050963\n",
            "57551    0.003002\n",
            "57552    0.009595\n",
            "57569    0.109649\n",
            "dtype: float32\n"
          ]
        }
      ]
    },
    {
      "cell_type": "code",
      "source": [
        "df_subm = pd.read_csv(ROOT / \"sample_submission.csv\")\n",
        "df_subm = df_subm.set_index(\"case_id\")\n",
        "\n",
        "df_subm[\"score\"] = y_pred\n"
      ],
      "metadata": {
        "id": "41vqvouO5YMN"
      },
      "execution_count": null,
      "outputs": []
    },
    {
      "cell_type": "code",
      "source": [
        "print(\"Check null: \", df_subm[\"score\"].isnull().any())\n",
        "\n",
        "df_subm.head()"
      ],
      "metadata": {
        "id": "_tau-TL-5xbt",
        "outputId": "74c588e6-3a1f-415a-d4a0-07553af8bb3c",
        "colab": {
          "base_uri": "https://localhost:8080/",
          "height": 255
        }
      },
      "execution_count": null,
      "outputs": [
        {
          "output_type": "stream",
          "name": "stdout",
          "text": [
            "Check null:  False\n"
          ]
        },
        {
          "output_type": "execute_result",
          "data": {
            "text/plain": [
              "            score\n",
              "case_id          \n",
              "57543    0.013924\n",
              "57549    0.050963\n",
              "57551    0.003002\n",
              "57552    0.009595\n",
              "57569    0.109649"
            ],
            "text/html": [
              "\n",
              "  <div id=\"df-26cfd994-324c-4027-b329-a1bc60cfa08f\" class=\"colab-df-container\">\n",
              "    <div>\n",
              "<style scoped>\n",
              "    .dataframe tbody tr th:only-of-type {\n",
              "        vertical-align: middle;\n",
              "    }\n",
              "\n",
              "    .dataframe tbody tr th {\n",
              "        vertical-align: top;\n",
              "    }\n",
              "\n",
              "    .dataframe thead th {\n",
              "        text-align: right;\n",
              "    }\n",
              "</style>\n",
              "<table border=\"1\" class=\"dataframe\">\n",
              "  <thead>\n",
              "    <tr style=\"text-align: right;\">\n",
              "      <th></th>\n",
              "      <th>score</th>\n",
              "    </tr>\n",
              "    <tr>\n",
              "      <th>case_id</th>\n",
              "      <th></th>\n",
              "    </tr>\n",
              "  </thead>\n",
              "  <tbody>\n",
              "    <tr>\n",
              "      <th>57543</th>\n",
              "      <td>0.013924</td>\n",
              "    </tr>\n",
              "    <tr>\n",
              "      <th>57549</th>\n",
              "      <td>0.050963</td>\n",
              "    </tr>\n",
              "    <tr>\n",
              "      <th>57551</th>\n",
              "      <td>0.003002</td>\n",
              "    </tr>\n",
              "    <tr>\n",
              "      <th>57552</th>\n",
              "      <td>0.009595</td>\n",
              "    </tr>\n",
              "    <tr>\n",
              "      <th>57569</th>\n",
              "      <td>0.109649</td>\n",
              "    </tr>\n",
              "  </tbody>\n",
              "</table>\n",
              "</div>\n",
              "    <div class=\"colab-df-buttons\">\n",
              "\n",
              "  <div class=\"colab-df-container\">\n",
              "    <button class=\"colab-df-convert\" onclick=\"convertToInteractive('df-26cfd994-324c-4027-b329-a1bc60cfa08f')\"\n",
              "            title=\"Convert this dataframe to an interactive table.\"\n",
              "            style=\"display:none;\">\n",
              "\n",
              "  <svg xmlns=\"http://www.w3.org/2000/svg\" height=\"24px\" viewBox=\"0 -960 960 960\">\n",
              "    <path d=\"M120-120v-720h720v720H120Zm60-500h600v-160H180v160Zm220 220h160v-160H400v160Zm0 220h160v-160H400v160ZM180-400h160v-160H180v160Zm440 0h160v-160H620v160ZM180-180h160v-160H180v160Zm440 0h160v-160H620v160Z\"/>\n",
              "  </svg>\n",
              "    </button>\n",
              "\n",
              "  <style>\n",
              "    .colab-df-container {\n",
              "      display:flex;\n",
              "      gap: 12px;\n",
              "    }\n",
              "\n",
              "    .colab-df-convert {\n",
              "      background-color: #E8F0FE;\n",
              "      border: none;\n",
              "      border-radius: 50%;\n",
              "      cursor: pointer;\n",
              "      display: none;\n",
              "      fill: #1967D2;\n",
              "      height: 32px;\n",
              "      padding: 0 0 0 0;\n",
              "      width: 32px;\n",
              "    }\n",
              "\n",
              "    .colab-df-convert:hover {\n",
              "      background-color: #E2EBFA;\n",
              "      box-shadow: 0px 1px 2px rgba(60, 64, 67, 0.3), 0px 1px 3px 1px rgba(60, 64, 67, 0.15);\n",
              "      fill: #174EA6;\n",
              "    }\n",
              "\n",
              "    .colab-df-buttons div {\n",
              "      margin-bottom: 4px;\n",
              "    }\n",
              "\n",
              "    [theme=dark] .colab-df-convert {\n",
              "      background-color: #3B4455;\n",
              "      fill: #D2E3FC;\n",
              "    }\n",
              "\n",
              "    [theme=dark] .colab-df-convert:hover {\n",
              "      background-color: #434B5C;\n",
              "      box-shadow: 0px 1px 3px 1px rgba(0, 0, 0, 0.15);\n",
              "      filter: drop-shadow(0px 1px 2px rgba(0, 0, 0, 0.3));\n",
              "      fill: #FFFFFF;\n",
              "    }\n",
              "  </style>\n",
              "\n",
              "    <script>\n",
              "      const buttonEl =\n",
              "        document.querySelector('#df-26cfd994-324c-4027-b329-a1bc60cfa08f button.colab-df-convert');\n",
              "      buttonEl.style.display =\n",
              "        google.colab.kernel.accessAllowed ? 'block' : 'none';\n",
              "\n",
              "      async function convertToInteractive(key) {\n",
              "        const element = document.querySelector('#df-26cfd994-324c-4027-b329-a1bc60cfa08f');\n",
              "        const dataTable =\n",
              "          await google.colab.kernel.invokeFunction('convertToInteractive',\n",
              "                                                    [key], {});\n",
              "        if (!dataTable) return;\n",
              "\n",
              "        const docLinkHtml = 'Like what you see? Visit the ' +\n",
              "          '<a target=\"_blank\" href=https://colab.research.google.com/notebooks/data_table.ipynb>data table notebook</a>'\n",
              "          + ' to learn more about interactive tables.';\n",
              "        element.innerHTML = '';\n",
              "        dataTable['output_type'] = 'display_data';\n",
              "        await google.colab.output.renderOutput(dataTable, element);\n",
              "        const docLink = document.createElement('div');\n",
              "        docLink.innerHTML = docLinkHtml;\n",
              "        element.appendChild(docLink);\n",
              "      }\n",
              "    </script>\n",
              "  </div>\n",
              "\n",
              "\n",
              "<div id=\"df-04445226-fd65-40e6-afdc-36376d7a5ecf\">\n",
              "  <button class=\"colab-df-quickchart\" onclick=\"quickchart('df-04445226-fd65-40e6-afdc-36376d7a5ecf')\"\n",
              "            title=\"Suggest charts\"\n",
              "            style=\"display:none;\">\n",
              "\n",
              "<svg xmlns=\"http://www.w3.org/2000/svg\" height=\"24px\"viewBox=\"0 0 24 24\"\n",
              "     width=\"24px\">\n",
              "    <g>\n",
              "        <path d=\"M19 3H5c-1.1 0-2 .9-2 2v14c0 1.1.9 2 2 2h14c1.1 0 2-.9 2-2V5c0-1.1-.9-2-2-2zM9 17H7v-7h2v7zm4 0h-2V7h2v10zm4 0h-2v-4h2v4z\"/>\n",
              "    </g>\n",
              "</svg>\n",
              "  </button>\n",
              "\n",
              "<style>\n",
              "  .colab-df-quickchart {\n",
              "      --bg-color: #E8F0FE;\n",
              "      --fill-color: #1967D2;\n",
              "      --hover-bg-color: #E2EBFA;\n",
              "      --hover-fill-color: #174EA6;\n",
              "      --disabled-fill-color: #AAA;\n",
              "      --disabled-bg-color: #DDD;\n",
              "  }\n",
              "\n",
              "  [theme=dark] .colab-df-quickchart {\n",
              "      --bg-color: #3B4455;\n",
              "      --fill-color: #D2E3FC;\n",
              "      --hover-bg-color: #434B5C;\n",
              "      --hover-fill-color: #FFFFFF;\n",
              "      --disabled-bg-color: #3B4455;\n",
              "      --disabled-fill-color: #666;\n",
              "  }\n",
              "\n",
              "  .colab-df-quickchart {\n",
              "    background-color: var(--bg-color);\n",
              "    border: none;\n",
              "    border-radius: 50%;\n",
              "    cursor: pointer;\n",
              "    display: none;\n",
              "    fill: var(--fill-color);\n",
              "    height: 32px;\n",
              "    padding: 0;\n",
              "    width: 32px;\n",
              "  }\n",
              "\n",
              "  .colab-df-quickchart:hover {\n",
              "    background-color: var(--hover-bg-color);\n",
              "    box-shadow: 0 1px 2px rgba(60, 64, 67, 0.3), 0 1px 3px 1px rgba(60, 64, 67, 0.15);\n",
              "    fill: var(--button-hover-fill-color);\n",
              "  }\n",
              "\n",
              "  .colab-df-quickchart-complete:disabled,\n",
              "  .colab-df-quickchart-complete:disabled:hover {\n",
              "    background-color: var(--disabled-bg-color);\n",
              "    fill: var(--disabled-fill-color);\n",
              "    box-shadow: none;\n",
              "  }\n",
              "\n",
              "  .colab-df-spinner {\n",
              "    border: 2px solid var(--fill-color);\n",
              "    border-color: transparent;\n",
              "    border-bottom-color: var(--fill-color);\n",
              "    animation:\n",
              "      spin 1s steps(1) infinite;\n",
              "  }\n",
              "\n",
              "  @keyframes spin {\n",
              "    0% {\n",
              "      border-color: transparent;\n",
              "      border-bottom-color: var(--fill-color);\n",
              "      border-left-color: var(--fill-color);\n",
              "    }\n",
              "    20% {\n",
              "      border-color: transparent;\n",
              "      border-left-color: var(--fill-color);\n",
              "      border-top-color: var(--fill-color);\n",
              "    }\n",
              "    30% {\n",
              "      border-color: transparent;\n",
              "      border-left-color: var(--fill-color);\n",
              "      border-top-color: var(--fill-color);\n",
              "      border-right-color: var(--fill-color);\n",
              "    }\n",
              "    40% {\n",
              "      border-color: transparent;\n",
              "      border-right-color: var(--fill-color);\n",
              "      border-top-color: var(--fill-color);\n",
              "    }\n",
              "    60% {\n",
              "      border-color: transparent;\n",
              "      border-right-color: var(--fill-color);\n",
              "    }\n",
              "    80% {\n",
              "      border-color: transparent;\n",
              "      border-right-color: var(--fill-color);\n",
              "      border-bottom-color: var(--fill-color);\n",
              "    }\n",
              "    90% {\n",
              "      border-color: transparent;\n",
              "      border-bottom-color: var(--fill-color);\n",
              "    }\n",
              "  }\n",
              "</style>\n",
              "\n",
              "  <script>\n",
              "    async function quickchart(key) {\n",
              "      const quickchartButtonEl =\n",
              "        document.querySelector('#' + key + ' button');\n",
              "      quickchartButtonEl.disabled = true;  // To prevent multiple clicks.\n",
              "      quickchartButtonEl.classList.add('colab-df-spinner');\n",
              "      try {\n",
              "        const charts = await google.colab.kernel.invokeFunction(\n",
              "            'suggestCharts', [key], {});\n",
              "      } catch (error) {\n",
              "        console.error('Error during call to suggestCharts:', error);\n",
              "      }\n",
              "      quickchartButtonEl.classList.remove('colab-df-spinner');\n",
              "      quickchartButtonEl.classList.add('colab-df-quickchart-complete');\n",
              "    }\n",
              "    (() => {\n",
              "      let quickchartButtonEl =\n",
              "        document.querySelector('#df-04445226-fd65-40e6-afdc-36376d7a5ecf button');\n",
              "      quickchartButtonEl.style.display =\n",
              "        google.colab.kernel.accessAllowed ? 'block' : 'none';\n",
              "    })();\n",
              "  </script>\n",
              "</div>\n",
              "    </div>\n",
              "  </div>\n"
            ],
            "application/vnd.google.colaboratory.intrinsic+json": {
              "type": "dataframe",
              "variable_name": "df_subm",
              "summary": "{\n  \"name\": \"df_subm\",\n  \"rows\": 10,\n  \"fields\": [\n    {\n      \"column\": \"case_id\",\n      \"properties\": {\n        \"dtype\": \"number\",\n        \"std\": 42,\n        \"min\": 57543,\n        \"max\": 57634,\n        \"num_unique_values\": 10,\n        \"samples\": [\n          57633,\n          57549,\n          57630\n        ],\n        \"semantic_type\": \"\",\n        \"description\": \"\"\n      }\n    },\n    {\n      \"column\": \"score\",\n      \"properties\": {\n        \"dtype\": \"float32\",\n        \"num_unique_values\": 10,\n        \"samples\": [\n          0.0216815322637558,\n          0.050962645560503006,\n          0.009048571810126305\n        ],\n        \"semantic_type\": \"\",\n        \"description\": \"\"\n      }\n    }\n  ]\n}"
            }
          },
          "metadata": {},
          "execution_count": 32
        }
      ]
    },
    {
      "cell_type": "code",
      "source": [
        "df_subm.to_csv(\"submission_XGBoost.csv\")"
      ],
      "metadata": {
        "id": "SIiPOPAn5yGj"
      },
      "execution_count": null,
      "outputs": []
    },
    {
      "cell_type": "markdown",
      "source": [
        "###CatBoost Model"
      ],
      "metadata": {
        "id": "KdXcdYiC4vtp"
      }
    },
    {
      "cell_type": "code",
      "source": [
        "#CatBoost Model\n",
        "X = df_train.drop(columns=[\"target\", \"case_id\", \"WEEK_NUM\"])\n",
        "y = df_train[\"target\"]\n",
        "groups = df_train[\"WEEK_NUM\"]\n",
        "\n",
        "# Identify categorical features\n",
        "cat_features = [col for col in X.columns if X[col].dtype.name == 'category']\n",
        "\n",
        "# Fill NaN values in categorical columns with a specific category 'missing'\n",
        "for col in cat_features:\n",
        "    X[col] = X[col].astype(str).fillna('missing')\n",
        "\n",
        "# CatBoost parameters\n",
        "params = {\n",
        "    \"iterations\": 1000,\n",
        "    \"learning_rate\": 0.05,\n",
        "    \"depth\": 6,\n",
        "    \"loss_function\": 'Logloss',\n",
        "    \"eval_metric\": 'AUC',\n",
        "    \"random_seed\": 42,\n",
        "    \"verbose\": 100,\n",
        "    \"task_type\": \"GPU\",\n",
        "    \"early_stopping_rounds\": 50,  # More aggressive early stopping\n",
        "    \"border_count\": 128  # Experiment this to balance accuracy vs speed further\n",
        "}\n",
        "\n",
        "# Model training setup\n",
        "fitted_models = []\n",
        "cv = GroupKFold(n_splits=5)\n",
        "\n",
        "for idx_train, idx_valid in cv.split(X, y, groups=groups):\n",
        "    X_train, y_train = X.iloc[idx_train], y.iloc[idx_train]\n",
        "    X_valid, y_valid = X.iloc[idx_valid], y.iloc[idx_valid]\n",
        "\n",
        "    # Use Pool to manage data and specify categorical features\n",
        "    train_pool = Pool(X_train, y_train, cat_features=cat_features)\n",
        "    valid_pool = Pool(X_valid, y_valid, cat_features=cat_features)\n",
        "\n",
        "    model = CatBoostClassifier(**params)\n",
        "    model.fit(\n",
        "        train_pool,\n",
        "        eval_set=valid_pool,\n",
        "        use_best_model=True\n",
        "    )\n",
        "\n",
        "    fitted_models.append(model)\n",
        "\n",
        "# Combining models (simple averaging method for demonstration)\n",
        "def average_predict(models, X):\n",
        "    preds = [model.predict_proba(X)[:, 1] for model in models]\n",
        "    return np.mean(preds, axis=0)\n"
      ],
      "metadata": {
        "trusted": true,
        "id": "AzvUfilcyNYK"
      },
      "execution_count": null,
      "outputs": []
    },
    {
      "cell_type": "markdown",
      "source": [
        "CatBoost Prediction and results"
      ],
      "metadata": {
        "id": "FbFY_cJYyNYL"
      }
    },
    {
      "cell_type": "code",
      "source": [
        "# Fill NaN values in categorical columns with 'missing'\n",
        "# Need fill NaN values here, since they are not automatically handled by CatBoost when making predictions\n",
        "X_test[cat_features] = X_test[cat_features].astype(str).fillna('missing')\n",
        "\n",
        "# Create a Pool object for the test set, ensuring consistency with training\n",
        "test_pool = Pool(X_test, cat_features=cat_features)\n",
        "\n",
        "# Now make predictions using the model trained earlier\n",
        "y_pred = pd.Series(model.predict_proba(test_pool)[:, 1], index=X_test.index)\n",
        "\n",
        "print(y_pred.head())"
      ],
      "metadata": {
        "trusted": true,
        "id": "6k7GeIQmyNYO"
      },
      "execution_count": null,
      "outputs": []
    },
    {
      "cell_type": "code",
      "source": [
        "df_subm = pd.read_csv(ROOT / \"sample_submission.csv\")\n",
        "df_subm = df_subm.set_index(\"case_id\")\n",
        "\n",
        "df_subm[\"score\"] = y_pred"
      ],
      "metadata": {
        "id": "Vm7w2qEi53gB"
      },
      "execution_count": null,
      "outputs": []
    },
    {
      "cell_type": "code",
      "source": [
        "print(\"Check null: \", df_subm[\"score\"].isnull().any())\n",
        "\n",
        "df_subm.head()"
      ],
      "metadata": {
        "id": "8ICKvwYu53-p"
      },
      "execution_count": null,
      "outputs": []
    },
    {
      "cell_type": "code",
      "source": [
        "df_subm.to_csv(\"submission_CatBoost.csv\")"
      ],
      "metadata": {
        "id": "xYxWU0Eu55g7"
      },
      "execution_count": null,
      "outputs": []
    }
  ]
}
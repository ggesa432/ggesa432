{
  "nbformat": 4,
  "nbformat_minor": 0,
  "metadata": {
    "colab": {
      "provenance": [],
      "machine_shape": "hm",
      "include_colab_link": true
    },
    "kernelspec": {
      "name": "python3",
      "display_name": "Python 3"
    },
    "language_info": {
      "name": "python"
    }
  },
  "cells": [
    {
      "cell_type": "markdown",
      "metadata": {
        "id": "view-in-github",
        "colab_type": "text"
      },
      "source": [
        "<a href=\"https://colab.research.google.com/github/ggesa432/ggesa432/blob/master/deeplearning_final_fall23.ipynb\" target=\"_parent\"><img src=\"https://colab.research.google.com/assets/colab-badge.svg\" alt=\"Open In Colab\"/></a>"
      ]
    },
    {
      "cell_type": "markdown",
      "source": [
        "# CRSAS: Consolidated Recommendation and Sentiment Analysis System\n",
        "### Team Members: Ansh Bhatnagar, Yams Gupta, Zeren Gesang\n",
        "\n",
        "### Project Idea: Develop a sophisticated recommendation and sentiment analysis system using deep learning models like RoBERTa, focusing on user-generated content from platforms like Yelp.\n"
      ],
      "metadata": {
        "id": "GfW3_VAjVtB_"
      }
    },
    {
      "cell_type": "code",
      "source": [
        "#Step 1: Import Necessary Libraries\n",
        "import numpy as np\n",
        "from sklearn.feature_extraction.text import TfidfVectorizer\n",
        "from sklearn.naive_bayes import MultinomialNB\n",
        "from sklearn import metrics\n",
        "from sklearn.model_selection import train_test_split"
      ],
      "metadata": {
        "id": "7Wwtc-bDVskE"
      },
      "execution_count": 1,
      "outputs": []
    },
    {
      "cell_type": "code",
      "execution_count": 2,
      "metadata": {
        "id": "VhjLgO6KVpwJ"
      },
      "outputs": [],
      "source": [
        "#Step 2: Load the 20 Newsgroups Dataset\n",
        "\n",
        "from sklearn.datasets import fetch_20newsgroups\n",
        "\n",
        "# For simplicity, let's use only a few categories\n",
        "categories = ['alt.atheism', 'soc.religion.christian', 'comp.graphics', 'sci.med']\n",
        "newsgroups_train = fetch_20newsgroups(subset='train', categories=categories)\n",
        "newsgroups_test = fetch_20newsgroups(subset='test', categories=categories)\n",
        "\n",
        "#Preprocess the data\n",
        "from sklearn.feature_extraction.text import TfidfVectorizer\n",
        "\n",
        "vectorizer = TfidfVectorizer()\n",
        "X_train = vectorizer.fit_transform(newsgroups_train.data)\n",
        "X_test = vectorizer.transform(newsgroups_test.data)\n",
        "\n",
        "y_train = newsgroups_train.target\n",
        "y_test = newsgroups_test.target\n"
      ]
    },
    {
      "cell_type": "markdown",
      "source": [
        "# Naive Bayes Classifier (as a Baseline):"
      ],
      "metadata": {
        "id": "DONEhPHoaR1c"
      }
    },
    {
      "cell_type": "code",
      "source": [
        "from sklearn.naive_bayes import MultinomialNB\n",
        "from sklearn.metrics import classification_report\n",
        "\n",
        "clf_nb = MultinomialNB()\n",
        "clf_nb.fit(X_train, y_train)\n",
        "y_pred_nb = clf_nb.predict(X_test)\n",
        "print(classification_report(y_test, y_pred_nb))\n"
      ],
      "metadata": {
        "colab": {
          "base_uri": "https://localhost:8080/"
        },
        "id": "UANepyHgaPt_",
        "outputId": "2f15691b-211a-4e9b-a894-941836b41e01"
      },
      "execution_count": 3,
      "outputs": [
        {
          "output_type": "stream",
          "name": "stdout",
          "text": [
            "              precision    recall  f1-score   support\n",
            "\n",
            "           0       0.97      0.60      0.74       319\n",
            "           1       0.96      0.89      0.92       389\n",
            "           2       0.97      0.81      0.88       396\n",
            "           3       0.65      0.99      0.78       398\n",
            "\n",
            "    accuracy                           0.83      1502\n",
            "   macro avg       0.89      0.82      0.83      1502\n",
            "weighted avg       0.88      0.83      0.84      1502\n",
            "\n"
          ]
        }
      ]
    },
    {
      "cell_type": "markdown",
      "source": [
        "# Step 3: Implementing RoBERTa Model"
      ],
      "metadata": {
        "id": "pXk1bwv3acoO"
      }
    },
    {
      "cell_type": "code",
      "source": [
        "import torch\n",
        "from torch.utils.data import Dataset, DataLoader\n",
        "from transformers import RobertaTokenizer, RobertaForSequenceClassification, AdamW\n",
        "\n",
        "class NewsgroupsDataset(Dataset):\n",
        "    def __init__(self, texts, labels, tokenizer, max_len=512):\n",
        "        self.texts = texts\n",
        "        self.labels = labels\n",
        "        self.tokenizer = tokenizer\n",
        "        self.max_len = max_len\n",
        "\n",
        "    def __len__(self):\n",
        "        return len(self.texts)\n",
        "\n",
        "    def __getitem__(self, item):\n",
        "        text = str(self.texts[item])\n",
        "        label = self.labels[item]\n",
        "\n",
        "        encoding = self.tokenizer.encode_plus(\n",
        "            text,\n",
        "            add_special_tokens=True,\n",
        "            max_length=self.max_len,\n",
        "            return_token_type_ids=False,\n",
        "            padding='max_length',\n",
        "            return_attention_mask=True,\n",
        "            return_tensors='pt',\n",
        "            truncation=True\n",
        "        )\n",
        "\n",
        "        return {\n",
        "            'text': text,\n",
        "            'input_ids': encoding['input_ids'].flatten(),\n",
        "            'attention_mask': encoding['attention_mask'].flatten(),\n",
        "            'labels': torch.tensor(label, dtype=torch.long)\n",
        "        }\n",
        "\n",
        "tokenizer = RobertaTokenizer.from_pretrained('roberta-base')\n",
        "train_dataset = NewsgroupsDataset(newsgroups_train.data, newsgroups_train.target, tokenizer)\n",
        "test_dataset = NewsgroupsDataset(newsgroups_test.data, newsgroups_test.target, tokenizer)\n",
        "\n",
        "train_loader = DataLoader(train_dataset, batch_size=16, shuffle=True)\n",
        "test_loader = DataLoader(test_dataset, batch_size=16)\n",
        "\n",
        "model = RobertaForSequenceClassification.from_pretrained('roberta-base', num_labels=len(newsgroups_train.target_names))\n"
      ],
      "metadata": {
        "colab": {
          "base_uri": "https://localhost:8080/"
        },
        "id": "nxPxuhoUaeP5",
        "outputId": "157e0d0c-60c1-427e-83c4-8e7c24f6b29c"
      },
      "execution_count": 4,
      "outputs": [
        {
          "output_type": "stream",
          "name": "stderr",
          "text": [
            "Some weights of RobertaForSequenceClassification were not initialized from the model checkpoint at roberta-base and are newly initialized: ['classifier.out_proj.weight', 'classifier.dense.weight', 'classifier.out_proj.bias', 'classifier.dense.bias']\n",
            "You should probably TRAIN this model on a down-stream task to be able to use it for predictions and inference.\n"
          ]
        }
      ]
    },
    {
      "cell_type": "code",
      "source": [
        "# Training setup goes here\n",
        "# Note: Training a transformer model on a CPU can be very slow.\n",
        "\n",
        "# Set up GPU/CPU usage\n",
        "device = torch.device(\"cuda\" if torch.cuda.is_available() else \"cpu\")\n",
        "model.to(device)\n",
        "\n",
        "# Hyperparameters\n",
        "epochs = 3\n",
        "optimizer = AdamW(model.parameters(), lr=2e-5, correct_bias=False)\n",
        "total_steps = len(train_loader) * epochs\n",
        "\n",
        "# Training loop\n",
        "for epoch in range(epochs):\n",
        "    model.train()\n",
        "    total_train_loss = 0\n",
        "\n",
        "    for batch in train_loader:\n",
        "        # Move batch to device\n",
        "        input_ids = batch['input_ids'].to(device)\n",
        "        attention_mask = batch['attention_mask'].to(device)\n",
        "        labels = batch['labels'].to(device)\n",
        "\n",
        "        # Forward pass\n",
        "        model.zero_grad()\n",
        "        outputs = model(input_ids=input_ids, attention_mask=attention_mask, labels=labels)\n",
        "\n",
        "        # Backward pass\n",
        "        loss = outputs.loss\n",
        "        total_train_loss += loss.item()\n",
        "        loss.backward()\n",
        "\n",
        "        # Clip the norm of the gradients to 1.0 to prevent \"exploding gradients\"\n",
        "        torch.nn.utils.clip_grad_norm_(model.parameters(), 1.0)\n",
        "\n",
        "        optimizer.step()\n",
        "\n",
        "    # Calculate average loss over the training data\n",
        "    avg_train_loss = total_train_loss / len(train_loader)\n",
        "    print(f\"Epoch {epoch+1} / {epochs}, Average Training Loss: {avg_train_loss}\")\n",
        "\n",
        "# Save the model\n",
        "model.save_pretrained('./roberta_newsgroups_model')\n",
        "\n",
        "\n",
        "\n",
        "\n"
      ],
      "metadata": {
        "colab": {
          "base_uri": "https://localhost:8080/"
        },
        "id": "BWVRsW1bawP-",
        "outputId": "d0ff0daa-afd8-45b6-b75c-bcf52e072007"
      },
      "execution_count": 7,
      "outputs": [
        {
          "output_type": "stream",
          "name": "stderr",
          "text": [
            "/usr/local/lib/python3.10/dist-packages/transformers/optimization.py:411: FutureWarning: This implementation of AdamW is deprecated and will be removed in a future version. Use the PyTorch implementation torch.optim.AdamW instead, or set `no_deprecation_warning=True` to disable this warning\n",
            "  warnings.warn(\n"
          ]
        },
        {
          "output_type": "stream",
          "name": "stdout",
          "text": [
            "Epoch 1 / 3, Average Training Loss: 0.4578089004113588\n",
            "Epoch 2 / 3, Average Training Loss: 0.12259184501238797\n",
            "Epoch 3 / 3, Average Training Loss: 0.07601271564645928\n"
          ]
        }
      ]
    },
    {
      "cell_type": "code",
      "source": [
        "import torch\n",
        "import torch.nn as nn\n",
        "import torch.optim as optim\n",
        "from torch.utils.data import Dataset, DataLoader\n",
        "from torch.optim import AdamW\n",
        "from collections import Counter\n",
        "\n",
        "class NewsgroupsDataset(Dataset):\n",
        "    def __init__(self, texts, labels, tokenizer, max_len):\n",
        "        self.texts = texts\n",
        "        self.labels = labels\n",
        "        self.tokenizer = tokenizer\n",
        "        self.max_len = max_len\n",
        "        self.vocab = vocab\n",
        "    def __len__(self):\n",
        "        return len(self.texts)\n",
        "\n",
        "    def __getitem__(self, item):\n",
        "        text = str(self.texts[item])\n",
        "        label = self.labels[item]\n",
        "\n",
        "        # Tokenize and encode the text\n",
        "        encoding = self.tokenizer(text)  # No need to pass vocab here, as it's included in the lambda\n",
        "        encoding = encoding[:self.max_len]  # Truncate to max_length\n",
        "        padding_length = self.max_len - len(encoding)\n",
        "        encoding += [self.vocab.get(\"<PAD>\")] * padding_length  # Pad with <PAD> token ID\n",
        "\n",
        "        return {\n",
        "            'input_ids': torch.tensor(encoding, dtype=torch.long),\n",
        "            'labels': torch.tensor(label, dtype=torch.long)\n",
        "        }\n",
        "\n",
        "\n",
        "class LSTMClassifier(nn.Module):\n",
        "    def __init__(self, embedding_dim, hidden_dim, vocab_size, num_classes):\n",
        "        super(LSTMClassifier, self).__init__()\n",
        "        self.embedding = nn.Embedding(vocab_size, embedding_dim)\n",
        "        self.lstm = nn.LSTM(embedding_dim, hidden_dim, batch_first=True)\n",
        "        self.fc = nn.Linear(hidden_dim, num_classes)\n",
        "\n",
        "    def forward(self, x):\n",
        "        x = self.embedding(x)\n",
        "        lstm_out, _ = self.lstm(x)\n",
        "        # Take the output of the last time step\n",
        "        last_time_step_out = lstm_out[:, -1, :]\n",
        "        out = self.fc(last_time_step_out)\n",
        "        return out\n",
        "\n",
        "def build_vocab(texts, min_freq=1):\n",
        "    # Tokenize the texts and count word frequencies\n",
        "    tokenized_texts = [text.split() for text in texts]\n",
        "    word_freq = Counter(word for tokens in tokenized_texts for word in tokens)\n",
        "\n",
        "    # Build the vocabulary\n",
        "    vocab = {\"<PAD>\": 0, \"<UNK>\": 1}\n",
        "    idx = 2\n",
        "    for word, freq in word_freq.items():\n",
        "        if freq >= min_freq:\n",
        "            vocab[word] = idx\n",
        "            idx += 1\n",
        "    return vocab\n",
        "\n",
        "# Build the vocabulary from your training texts\n",
        "vocab = build_vocab([text for text in newsgroups_train.data])\n",
        "\n",
        "\n",
        "def basic_tokenizer(text, vocab):\n",
        "    return [vocab.get(word, vocab[\"<UNK>\"]) for word in text.split()]\n",
        "\n",
        "\n",
        "max_length = 128  # Define a suitable maximum sequence length\n",
        "train_dataset = NewsgroupsDataset(newsgroups_train.data, newsgroups_train.target, lambda text: basic_tokenizer(text, vocab), max_length)\n",
        "test_dataset = NewsgroupsDataset(newsgroups_test.data, newsgroups_test.target, lambda text: basic_tokenizer(text, vocab), max_length)\n",
        "\n",
        "train_loader = DataLoader(train_dataset, batch_size=16, shuffle=True)\n",
        "test_loader = DataLoader(test_dataset, batch_size=16)\n",
        "\n",
        "\n",
        "\n",
        "\n",
        "\n"
      ],
      "metadata": {
        "id": "0RfQNPoDQe7b"
      },
      "execution_count": 4,
      "outputs": []
    },
    {
      "cell_type": "code",
      "source": [
        "# Hyperparameters\n",
        "embedding_dim = 128\n",
        "hidden_dim = 256\n",
        "vocab_size = len(vocab)\n",
        "num_labels = len(newsgroups_train.target_names)\n",
        "\n",
        "model = LSTMClassifier(embedding_dim, hidden_dim, vocab_size, num_labels)\n",
        "device = torch.device(\"cuda\" if torch.cuda.is_available() else \"cpu\")\n",
        "model.to(device)\n",
        "\n",
        "\n"
      ],
      "metadata": {
        "colab": {
          "base_uri": "https://localhost:8080/"
        },
        "id": "tP22agUjQuoQ",
        "outputId": "374263dc-8a9c-40c1-dc87-5255cc9e1b5b"
      },
      "execution_count": 7,
      "outputs": [
        {
          "output_type": "execute_result",
          "data": {
            "text/plain": [
              "LSTMClassifier(\n",
              "  (embedding): Embedding(78700, 128)\n",
              "  (lstm): LSTM(128, 256, batch_first=True)\n",
              "  (fc): Linear(in_features=256, out_features=4, bias=True)\n",
              ")"
            ]
          },
          "metadata": {},
          "execution_count": 7
        }
      ]
    },
    {
      "cell_type": "code",
      "source": [
        "\n",
        "# Loss function\n",
        "criterion = nn.CrossEntropyLoss()\n",
        "\n",
        "# Optimizer (Adam as the common choice)\n",
        "optimizer = optim.Adam(model.parameters(), lr=0.001)\n",
        "\n",
        "\n",
        "# Number of training epochs\n",
        "num_epochs = 5\n",
        "\n",
        "for epoch in range(num_epochs):\n",
        "    model.train()  # Set the model to training mode\n",
        "    total_loss = 0\n",
        "\n",
        "    for batch in train_loader:\n",
        "        # Move batch data to the device\n",
        "        input_ids = batch['input_ids'].to(device)\n",
        "        labels = batch['labels'].to(device)\n",
        "\n",
        "        # Forward pass\n",
        "        optimizer.zero_grad()\n",
        "        outputs = model(input_ids)\n",
        "        loss = criterion(outputs, labels)\n",
        "\n",
        "        # Backward pass and optimization\n",
        "        loss.backward()\n",
        "        optimizer.step()\n",
        "\n",
        "        total_loss += loss.item()\n",
        "\n",
        "    print(f\"Epoch {epoch+1}/{num_epochs}, Loss: {total_loss/len(train_loader)}\")\n",
        "\n",
        "\n",
        "# Save the model\n",
        "torch.save(model.state_dict(), 'lstm_model.pth')\n",
        "\n",
        "\n",
        "\n"
      ],
      "metadata": {
        "colab": {
          "base_uri": "https://localhost:8080/"
        },
        "id": "SYAPxIngQvYQ",
        "outputId": "1891658c-0994-45ee-916a-72d89a6a785d"
      },
      "execution_count": 8,
      "outputs": [
        {
          "output_type": "stream",
          "name": "stdout",
          "text": [
            "Epoch 1/5, Loss: 1.3544090167737344\n",
            "Epoch 2/5, Loss: 1.2387442391523174\n",
            "Epoch 3/5, Loss: 1.0442960211928463\n",
            "Epoch 4/5, Loss: 0.7566560421821097\n",
            "Epoch 5/5, Loss: 0.525377191917997\n"
          ]
        }
      ]
    }
  ]
}